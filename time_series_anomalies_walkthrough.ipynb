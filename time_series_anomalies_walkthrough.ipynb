{
 "cells": [
  {
   "cell_type": "code",
   "execution_count": 1,
   "metadata": {},
   "outputs": [],
   "source": [
    "import numpy as np\n",
    "import pandas as pd\n",
    "import math\n",
    "from sklearn import metrics\n",
    "\n",
    "from scipy.stats import entropy\n",
    "\n",
    "import warnings\n",
    "warnings.filterwarnings(\"ignore\")\n",
    "import matplotlib.pyplot as plt\n",
    "import matplotlib.dates as mdates #to format dates on our plots\n",
    "%matplotlib inline\n",
    "import seaborn as sns\n",
    "\n",
    "# This is to make sure matplotlib doesn't throw the following error:\n",
    "# The next line fixes \"TypeError: float() argument must be a string or a number, not 'Timestamp' matplotlib\"\n",
    "pd.plotting.register_matplotlib_converters()"
   ]
  },
  {
   "cell_type": "markdown",
   "metadata": {},
   "source": [
    "# Anomalies in Time Series Data\n",
    "#### Lesson Goals\n",
    "\n",
    "- Use entropy as a quick way to identify fields that may have anomalies.\n",
    "\n",
    "- Use statistical properties to flag the data points that deviate from the expected.\n",
    "\n",
    "#### The Data\n",
    "\n",
    "Logs of API requests to our data containing sales information about our stores and items.\n",
    "\n",
    "Type of target variable: Continuous or Discrete\n",
    "\n",
    "Type of observations: Time Series or Point in Time\n",
    "\n",
    "#### The Questions\n",
    "\n",
    "Are there unusual IP addresses accessing our data via the API?\n",
    "\n",
    "Have we seen any spikes or unusual patterns in the size of requests?\n",
    "\n",
    "In general: Does this new value deviate from what we would expect based on historical data? If so, is it something to be concerned about? Remember, we aren't detecting anomalies for the sake of detecting anomalies.\n",
    "\n",
    "# Goal:\n",
    "\n",
    "- **Ask questions about the data!!!!** That's going to be the point of this project.\n",
    "- Pick a cohort, measure # of visits per day, and do the %B and Bollinger Bands on that single cohort to learn and explore the data.\n",
    "- I'm going to have to determine how to come up with a metric (probably count, just different ways to count).\n",
    "    - Pick a cohort, do count of visits per day. I may not find anything, so find another cohort, and keep on trying until I find something. Nose to the grindstone \"time\"."
   ]
  },
  {
   "cell_type": "code",
   "execution_count": 2,
   "metadata": {},
   "outputs": [],
   "source": [
    "# Acquire"
   ]
  },
  {
   "cell_type": "code",
   "execution_count": 3,
   "metadata": {},
   "outputs": [],
   "source": [
    "colnames=['ip', 'timestamp', 'request_method', 'status', 'size',\n",
    "          'destination', 'request_agent']\n",
    "df_orig = pd.read_csv('https://python.zach.lol/access.log',          \n",
    "                 engine='python',\n",
    "                 header=None,\n",
    "                 index_col=False,\n",
    "                 names=colnames,\n",
    "                 sep=r'\\s(?=(?:[^\"]*\"[^\"]*\")*[^\"]*$)(?![^\\[]*\\])',\n",
    "                 na_values='\"-\"',\n",
    "                 usecols=[0, 3, 4, 5, 6, 7, 8]\n",
    ")"
   ]
  },
  {
   "cell_type": "code",
   "execution_count": 4,
   "metadata": {},
   "outputs": [
    {
     "name": "stdout",
     "output_type": "stream",
     "text": [
      "<class 'pandas.core.frame.DataFrame'>\n",
      "RangeIndex: 13974 entries, 0 to 13973\n",
      "Data columns (total 7 columns):\n",
      " #   Column          Non-Null Count  Dtype \n",
      "---  ------          --------------  ----- \n",
      " 0   ip              13974 non-null  object\n",
      " 1   timestamp       13974 non-null  object\n",
      " 2   request_method  13974 non-null  object\n",
      " 3   status          13974 non-null  int64 \n",
      " 4   size            13974 non-null  int64 \n",
      " 5   destination     25 non-null     object\n",
      " 6   request_agent   13974 non-null  object\n",
      "dtypes: int64(2), object(5)\n",
      "memory usage: 764.3+ KB\n"
     ]
    }
   ],
   "source": [
    "df_orig.info()"
   ]
  },
  {
   "cell_type": "code",
   "execution_count": null,
   "metadata": {},
   "outputs": [],
   "source": [
    "my_ip = 96.8.130.213"
   ]
  },
  {
   "cell_type": "code",
   "execution_count": 5,
   "metadata": {},
   "outputs": [
    {
     "ename": "NameError",
     "evalue": "name 'df' is not defined",
     "output_type": "error",
     "traceback": [
      "\u001b[0;31m---------------------------------------------------------------------------\u001b[0m",
      "\u001b[0;31mNameError\u001b[0m                                 Traceback (most recent call last)",
      "\u001b[0;32m<ipython-input-5-a74c58233b9e>\u001b[0m in \u001b[0;36m<module>\u001b[0;34m\u001b[0m\n\u001b[0;32m----> 1\u001b[0;31m \u001b[0mdf\u001b[0m\u001b[0;34m.\u001b[0m\u001b[0minfo\u001b[0m\u001b[0;34m(\u001b[0m\u001b[0;34m)\u001b[0m\u001b[0;34m\u001b[0m\u001b[0;34m\u001b[0m\u001b[0m\n\u001b[0m",
      "\u001b[0;31mNameError\u001b[0m: name 'df' is not defined"
     ]
    }
   ],
   "source": [
    "df.info()"
   ]
  },
  {
   "cell_type": "code",
   "execution_count": null,
   "metadata": {},
   "outputs": [],
   "source": []
  },
  {
   "cell_type": "code",
   "execution_count": null,
   "metadata": {},
   "outputs": [],
   "source": []
  },
  {
   "cell_type": "code",
   "execution_count": null,
   "metadata": {},
   "outputs": [],
   "source": []
  },
  {
   "cell_type": "code",
   "execution_count": null,
   "metadata": {},
   "outputs": [],
   "source": []
  },
  {
   "cell_type": "code",
   "execution_count": null,
   "metadata": {},
   "outputs": [],
   "source": []
  },
  {
   "cell_type": "code",
   "execution_count": null,
   "metadata": {},
   "outputs": [],
   "source": []
  },
  {
   "cell_type": "code",
   "execution_count": null,
   "metadata": {},
   "outputs": [],
   "source": []
  },
  {
   "cell_type": "code",
   "execution_count": null,
   "metadata": {},
   "outputs": [],
   "source": []
  },
  {
   "cell_type": "code",
   "execution_count": null,
   "metadata": {},
   "outputs": [],
   "source": []
  },
  {
   "cell_type": "code",
   "execution_count": null,
   "metadata": {},
   "outputs": [],
   "source": []
  },
  {
   "cell_type": "code",
   "execution_count": null,
   "metadata": {},
   "outputs": [],
   "source": []
  },
  {
   "cell_type": "code",
   "execution_count": null,
   "metadata": {},
   "outputs": [],
   "source": []
  },
  {
   "cell_type": "code",
   "execution_count": null,
   "metadata": {},
   "outputs": [],
   "source": []
  },
  {
   "cell_type": "code",
   "execution_count": null,
   "metadata": {},
   "outputs": [],
   "source": []
  },
  {
   "cell_type": "code",
   "execution_count": null,
   "metadata": {},
   "outputs": [],
   "source": []
  },
  {
   "cell_type": "markdown",
   "metadata": {},
   "source": [
    "Resampling data\n",
    "In [26]:\n",
    "\n",
    "1\n",
    "my_datetime_fmt = mdates.DateFormatter('%m-%d %H:%T')\n",
    "2\n",
    "my_datetime_fmt\n",
    "Out[26]:\n",
    "<matplotlib.dates.DateFormatter at 0x7f9f1aa0b8d0>\n",
    "In [28]:\n",
    "\n",
    "1\n",
    "df_ts_user = df['user_id'].resample('30T').max()\n",
    "2\n",
    "df_ts_user\n",
    "Out[28]:\n",
    "date_time\n",
    "2018-01-26 09:30:00      5.0\n",
    "2018-01-26 10:00:00     11.0\n",
    "2018-01-26 10:30:00     21.0\n",
    "2018-01-26 11:00:00     24.0\n",
    "2018-01-26 11:30:00     35.0\n",
    "                       ...  \n",
    "2020-11-02 14:30:00    785.0\n",
    "2020-11-02 15:00:00    775.0\n",
    "2020-11-02 15:30:00    782.0\n",
    "2020-11-02 16:00:00    784.0\n",
    "2020-11-02 16:30:00    773.0\n",
    "Freq: 30T, Name: user_id, Length: 48543, dtype: float64\n",
    "In [30]:\n",
    "\n",
    "1\n",
    "idx = pd.date_range(\n",
    "2\n",
    "    df_ts_user.sort_index().index.min(), \n",
    "3\n",
    "    df_ts_user.sort_index().index.max(),\n",
    "4\n",
    "    freq='30min'\n",
    "5\n",
    ")\n",
    "6\n",
    "idx\n",
    "Out[30]:\n",
    "DatetimeIndex(['2018-01-26 09:30:00', '2018-01-26 10:00:00',\n",
    "               '2018-01-26 10:30:00', '2018-01-26 11:00:00',\n",
    "               '2018-01-26 11:30:00', '2018-01-26 12:00:00',\n",
    "               '2018-01-26 12:30:00', '2018-01-26 13:00:00',\n",
    "               '2018-01-26 13:30:00', '2018-01-26 14:00:00',\n",
    "               ...\n",
    "               '2020-11-02 12:00:00', '2020-11-02 12:30:00',\n",
    "               '2020-11-02 13:00:00', '2020-11-02 13:30:00',\n",
    "               '2020-11-02 14:00:00', '2020-11-02 14:30:00',\n",
    "               '2020-11-02 15:00:00', '2020-11-02 15:30:00',\n",
    "               '2020-11-02 16:00:00', '2020-11-02 16:30:00'],\n",
    "              dtype='datetime64[ns]', length=48543, freq='30T')\n",
    "In [31]:\n",
    "\n",
    "1\n",
    "df_ts_user = df_ts_user.reindex(idx, fill_value=0).fillna(value=0)\n",
    "2\n",
    "df_ts_user\n",
    "Out[31]:\n",
    "2018-01-26 09:30:00      5.0\n",
    "2018-01-26 10:00:00     11.0\n",
    "2018-01-26 10:30:00     21.0\n",
    "2018-01-26 11:00:00     24.0\n",
    "2018-01-26 11:30:00     35.0\n",
    "                       ...  \n",
    "2020-11-02 14:30:00    785.0\n",
    "2020-11-02 15:00:00    775.0\n",
    "2020-11-02 15:30:00    782.0\n",
    "2020-11-02 16:00:00    784.0\n",
    "2020-11-02 16:30:00    773.0\n",
    "Freq: 30T, Name: user_id, Length: 48543, dtype: float64\n",
    "In [32]:\n",
    "\n",
    "1\n",
    "df_ts_size.shape, df_ts_user.shape\n",
    "Out[32]:\n",
    "((48543,), (48543,))\n",
    "In [33]:\n",
    "\n",
    "1\n",
    "df_ts_test = df['user_id'].resample('30T').max()\n",
    "2\n",
    "df_ts_test.shape\n",
    "Out[33]:\n",
    "(48543,)\n",
    "In [35]:\n",
    "\n",
    "1\n",
    "df['user_id'].resample('30T').max().shape\n",
    "Out[35]:\n",
    "(48543,)\n",
    "In [ ]:\n",
    "\n",
    "1\n",
    "​\n",
    "2\n",
    "df_ts_size = df['size_mb'].resample('30T').max()\n",
    "3\n",
    "​\n",
    "4\n",
    "idx = pd.date_range(\n",
    "5\n",
    "    df_ts_size.sort_index().index.min(), \n",
    "6\n",
    "    df_ts_size.sort_index().index.max(),\n",
    "7\n",
    "    freq='30min'\n",
    "8\n",
    ")\n",
    "9\n",
    "​\n",
    "10\n",
    "df_ts_size = df_ts_size.reindex(idx, fill_value=0).fillna(value=0)\n",
    "In [ ]:\n",
    "\n",
    "1\n",
    "df_ts_user = df['user_id'].resample('30T').max()\n",
    "2\n",
    "df_ts_user\n",
    "In [40]:\n",
    "\n",
    "1\n",
    "# I don't know if I actually need to resample my data in this way...\n",
    "In [ ]:\n",
    "\n",
    "1\n",
    "​\n",
    "In [ ]:\n",
    "\n",
    "1\n",
    "​\n",
    "In [ ]:\n",
    "\n",
    "1\n",
    "​\n",
    "In [ ]:\n",
    "\n",
    "1\n",
    "​\n",
    "In [ ]:\n",
    "\n",
    "1\n",
    "​\n",
    "In [ ]:\n",
    "\n",
    "1\n",
    "data[col].str.contains('<what you are looking for>')"
   ]
  },
  {
   "cell_type": "code",
   "execution_count": null,
   "metadata": {},
   "outputs": [],
   "source": []
  }
 ],
 "metadata": {
  "kernelspec": {
   "display_name": "Python 3",
   "language": "python",
   "name": "python3"
  },
  "language_info": {
   "codemirror_mode": {
    "name": "ipython",
    "version": 3
   },
   "file_extension": ".py",
   "mimetype": "text/x-python",
   "name": "python",
   "nbconvert_exporter": "python",
   "pygments_lexer": "ipython3",
   "version": "3.7.9"
  }
 },
 "nbformat": 4,
 "nbformat_minor": 4
}
