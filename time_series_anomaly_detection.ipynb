{
 "cells": [
  {
   "cell_type": "code",
   "execution_count": 1,
   "metadata": {},
   "outputs": [
    {
     "name": "stdout",
     "output_type": "stream",
     "text": [
      "Imported env successfully.\n",
      "credentials loaded successfully\n",
      "End of acquire.py file.\n",
      "Loaded all prepare functions.\n"
     ]
    }
   ],
   "source": [
    "# from __future__ import division\n",
    "import itertools\n",
    "import warnings\n",
    "warnings.filterwarnings(\"ignore\")\n",
    "import matplotlib.pyplot as plt\n",
    "import matplotlib.dates as mdates\n",
    "import numpy as np\n",
    "import pandas as pd\n",
    "import math\n",
    "from sklearn import metrics\n",
    "from random import randint\n",
    "from matplotlib import style\n",
    "import seaborn as sns\n",
    "from sklearn.cluster import DBSCAN\n",
    "from sklearn.preprocessing import MinMaxScaler\n",
    "\n",
    "%matplotlib inline\n",
    "\n",
    "# splitting data:\n",
    "from sklearn.model_selection import train_test_split\n",
    "from sklearn import metrics\n",
    "\n",
    "from scipy.stats import entropy\n",
    "\n",
    "# web-based requests\n",
    "import requests\n",
    "import rapid_env\n",
    "\n",
    "# Importing the os library specifically for reading the csv once I've created the file in my working directory.\n",
    "import os\n",
    "\n",
    "import acquire\n",
    "import prepare\n",
    "\n",
    "\n",
    "# This is to make sure matplotlib doesn't throw the following error:\n",
    "# The next line fixes \"TypeError: float() argument must be a string or a number, not 'Timestamp' matplotlib\"\n",
    "pd.plotting.register_matplotlib_converters()"
   ]
  },
  {
   "cell_type": "markdown",
   "metadata": {},
   "source": [
    "# Plan\n",
    "\n",
    "Data source is from Codeup's curriculum logs from January 2018 until October 2020. These logs track income IP addresses which are accessing the website's curriculum and possibly other areas of the website.\n",
    "\n",
    "#### Objectives:\n",
    "1. **Discover users who are accessing our curriculum pages way beyond the end of their codeup time.**\n",
    "2. Give an example dataframe using the above criteria.\n",
    "3. Use at least 1 time series method (such as Bollinger Bands) or measuring entropy to detect any anomalies.\n",
    "\n",
    "\n",
    "#### Bonus:\n",
    "1. Find and label students who are viewing both the web dev and data science curriculum.\n",
    "2. Attempt to label individual students by their cohorts.\n",
    "3. Label Students and Staff (Need to identify those two groups).\n",
    "4. Label Zach, Maggie, Faith and Ryan's ids.\n",
    "\n",
    "\n",
    "### Ideas:\n",
    "- Try creating continuous variables from my categorical variables.\n",
    "- Filter down the data to a specific cohort and looking at data that way to hopefully find something useful.\n",
    "- Use as my attribute a single user id; loop through each user id. Then, *by user* find anomalies with regard to that *individual user*, not to the patterns across *all* users.\n",
    "- Use this code to help create a categorical variable from continuous variables: `groupby().size() = continuous variable`\n",
    "- *Nice to have:* to help me visualize, install an ip address library to map out where each ip address is."
   ]
  },
  {
   "cell_type": "code",
   "execution_count": 2,
   "metadata": {},
   "outputs": [
    {
     "data": {
      "text/html": [
       "<div>\n",
       "<style scoped>\n",
       "    .dataframe tbody tr th:only-of-type {\n",
       "        vertical-align: middle;\n",
       "    }\n",
       "\n",
       "    .dataframe tbody tr th {\n",
       "        vertical-align: top;\n",
       "    }\n",
       "\n",
       "    .dataframe thead th {\n",
       "        text-align: right;\n",
       "    }\n",
       "</style>\n",
       "<table border=\"1\" class=\"dataframe\">\n",
       "  <thead>\n",
       "    <tr style=\"text-align: right;\">\n",
       "      <th></th>\n",
       "      <th>date</th>\n",
       "      <th>timestamp</th>\n",
       "      <th>web_page</th>\n",
       "      <th>user_id</th>\n",
       "      <th>cohort_id</th>\n",
       "      <th>ip</th>\n",
       "    </tr>\n",
       "  </thead>\n",
       "  <tbody>\n",
       "    <tr>\n",
       "      <th>0</th>\n",
       "      <td>2018-01-26</td>\n",
       "      <td>09:55:03</td>\n",
       "      <td>/</td>\n",
       "      <td>1</td>\n",
       "      <td>8.0</td>\n",
       "      <td>97.105.19.61</td>\n",
       "    </tr>\n",
       "    <tr>\n",
       "      <th>1</th>\n",
       "      <td>2018-01-26</td>\n",
       "      <td>09:56:02</td>\n",
       "      <td>java-ii</td>\n",
       "      <td>1</td>\n",
       "      <td>8.0</td>\n",
       "      <td>97.105.19.61</td>\n",
       "    </tr>\n",
       "    <tr>\n",
       "      <th>2</th>\n",
       "      <td>2018-01-26</td>\n",
       "      <td>09:56:05</td>\n",
       "      <td>java-ii/object-oriented-programming</td>\n",
       "      <td>1</td>\n",
       "      <td>8.0</td>\n",
       "      <td>97.105.19.61</td>\n",
       "    </tr>\n",
       "    <tr>\n",
       "      <th>3</th>\n",
       "      <td>2018-01-26</td>\n",
       "      <td>09:56:06</td>\n",
       "      <td>slides/object_oriented_programming</td>\n",
       "      <td>1</td>\n",
       "      <td>8.0</td>\n",
       "      <td>97.105.19.61</td>\n",
       "    </tr>\n",
       "    <tr>\n",
       "      <th>4</th>\n",
       "      <td>2018-01-26</td>\n",
       "      <td>09:56:24</td>\n",
       "      <td>javascript-i/conditionals</td>\n",
       "      <td>2</td>\n",
       "      <td>22.0</td>\n",
       "      <td>97.105.19.61</td>\n",
       "    </tr>\n",
       "    <tr>\n",
       "      <th>...</th>\n",
       "      <td>...</td>\n",
       "      <td>...</td>\n",
       "      <td>...</td>\n",
       "      <td>...</td>\n",
       "      <td>...</td>\n",
       "      <td>...</td>\n",
       "    </tr>\n",
       "    <tr>\n",
       "      <th>719454</th>\n",
       "      <td>2020-11-02</td>\n",
       "      <td>16:48:13</td>\n",
       "      <td>javascript-i/coffee-project</td>\n",
       "      <td>763</td>\n",
       "      <td>62.0</td>\n",
       "      <td>107.192.148.199</td>\n",
       "    </tr>\n",
       "    <tr>\n",
       "      <th>719455</th>\n",
       "      <td>2020-11-02</td>\n",
       "      <td>16:48:17</td>\n",
       "      <td>javascript-i/mapbox-api</td>\n",
       "      <td>771</td>\n",
       "      <td>62.0</td>\n",
       "      <td>172.125.226.175</td>\n",
       "    </tr>\n",
       "    <tr>\n",
       "      <th>719456</th>\n",
       "      <td>2020-11-02</td>\n",
       "      <td>16:48:18</td>\n",
       "      <td>javascript-i/coffee-project</td>\n",
       "      <td>771</td>\n",
       "      <td>62.0</td>\n",
       "      <td>172.125.226.175</td>\n",
       "    </tr>\n",
       "    <tr>\n",
       "      <th>719457</th>\n",
       "      <td>2020-11-02</td>\n",
       "      <td>16:48:28</td>\n",
       "      <td>javascript-i/bom-and-dom/bom</td>\n",
       "      <td>771</td>\n",
       "      <td>62.0</td>\n",
       "      <td>172.125.226.175</td>\n",
       "    </tr>\n",
       "    <tr>\n",
       "      <th>719458</th>\n",
       "      <td>2020-11-02</td>\n",
       "      <td>16:48:47</td>\n",
       "      <td>javascript-i/bom-and-dom/bom</td>\n",
       "      <td>763</td>\n",
       "      <td>62.0</td>\n",
       "      <td>107.192.148.199</td>\n",
       "    </tr>\n",
       "  </tbody>\n",
       "</table>\n",
       "<p>719459 rows × 6 columns</p>\n",
       "</div>"
      ],
      "text/plain": [
       "              date timestamp                             web_page  user_id  \\\n",
       "0       2018-01-26  09:55:03                                    /        1   \n",
       "1       2018-01-26  09:56:02                              java-ii        1   \n",
       "2       2018-01-26  09:56:05  java-ii/object-oriented-programming        1   \n",
       "3       2018-01-26  09:56:06   slides/object_oriented_programming        1   \n",
       "4       2018-01-26  09:56:24            javascript-i/conditionals        2   \n",
       "...            ...       ...                                  ...      ...   \n",
       "719454  2020-11-02  16:48:13          javascript-i/coffee-project      763   \n",
       "719455  2020-11-02  16:48:17              javascript-i/mapbox-api      771   \n",
       "719456  2020-11-02  16:48:18          javascript-i/coffee-project      771   \n",
       "719457  2020-11-02  16:48:28         javascript-i/bom-and-dom/bom      771   \n",
       "719458  2020-11-02  16:48:47         javascript-i/bom-and-dom/bom      763   \n",
       "\n",
       "        cohort_id               ip  \n",
       "0             8.0     97.105.19.61  \n",
       "1             8.0     97.105.19.61  \n",
       "2             8.0     97.105.19.61  \n",
       "3             8.0     97.105.19.61  \n",
       "4            22.0     97.105.19.61  \n",
       "...           ...              ...  \n",
       "719454       62.0  107.192.148.199  \n",
       "719455       62.0  172.125.226.175  \n",
       "719456       62.0  172.125.226.175  \n",
       "719457       62.0  172.125.226.175  \n",
       "719458       62.0  107.192.148.199  \n",
       "\n",
       "[719459 rows x 6 columns]"
      ]
     },
     "execution_count": 2,
     "metadata": {},
     "output_type": "execute_result"
    }
   ],
   "source": [
    "colnames = ['date', 'timestamp', 'web_page', 'user_id', 'cohort_id', 'ip']\n",
    "\n",
    "df = pd.read_csv('anonymized-curriculum-access.txt', engine='python',\n",
    "                 header=None,\n",
    "                 index_col=False,\n",
    "                 names=colnames,\n",
    "                 sep=r'\\s(?=(?:[^\"]*\"[^\"]*\")*[^\"]*$)(?![^\\[]*\\])',\n",
    "                 na_values='\"-\"',\n",
    "                 usecols=[0,1,2,3,4,5])\n",
    "df"
   ]
  },
  {
   "cell_type": "code",
   "execution_count": 3,
   "metadata": {},
   "outputs": [
    {
     "name": "stdout",
     "output_type": "stream",
     "text": [
      "<class 'pandas.core.frame.DataFrame'>\n",
      "RangeIndex: 719459 entries, 0 to 719458\n",
      "Data columns (total 6 columns):\n",
      " #   Column     Non-Null Count   Dtype  \n",
      "---  ------     --------------   -----  \n",
      " 0   date       719459 non-null  object \n",
      " 1   timestamp  719459 non-null  object \n",
      " 2   web_page   719458 non-null  object \n",
      " 3   user_id    719459 non-null  int64  \n",
      " 4   cohort_id  674619 non-null  float64\n",
      " 5   ip         719459 non-null  object \n",
      "dtypes: float64(1), int64(1), object(4)\n",
      "memory usage: 32.9+ MB\n"
     ]
    }
   ],
   "source": [
    "df.info()"
   ]
  },
  {
   "cell_type": "code",
   "execution_count": 4,
   "metadata": {},
   "outputs": [],
   "source": [
    "# pd.Timestamp.combine(df.date, df.timestamp)"
   ]
  },
  {
   "cell_type": "code",
   "execution_count": 5,
   "metadata": {},
   "outputs": [],
   "source": [
    "df['date_time'] = df['date'] + \" \" + df[\"timestamp\"]"
   ]
  },
  {
   "cell_type": "code",
   "execution_count": 6,
   "metadata": {},
   "outputs": [],
   "source": [
    "df['date_time'] = pd.to_datetime(df.date_time)"
   ]
  },
  {
   "cell_type": "code",
   "execution_count": 7,
   "metadata": {},
   "outputs": [
    {
     "name": "stdout",
     "output_type": "stream",
     "text": [
      "<class 'pandas.core.frame.DataFrame'>\n",
      "RangeIndex: 719459 entries, 0 to 719458\n",
      "Data columns (total 7 columns):\n",
      " #   Column     Non-Null Count   Dtype         \n",
      "---  ------     --------------   -----         \n",
      " 0   date       719459 non-null  object        \n",
      " 1   timestamp  719459 non-null  object        \n",
      " 2   web_page   719458 non-null  object        \n",
      " 3   user_id    719459 non-null  int64         \n",
      " 4   cohort_id  674619 non-null  float64       \n",
      " 5   ip         719459 non-null  object        \n",
      " 6   date_time  719459 non-null  datetime64[ns]\n",
      "dtypes: datetime64[ns](1), float64(1), int64(1), object(4)\n",
      "memory usage: 38.4+ MB\n"
     ]
    }
   ],
   "source": [
    "df.info()"
   ]
  },
  {
   "cell_type": "code",
   "execution_count": 8,
   "metadata": {},
   "outputs": [],
   "source": [
    "df = df.set_index('date_time')"
   ]
  },
  {
   "cell_type": "code",
   "execution_count": 9,
   "metadata": {},
   "outputs": [
    {
     "data": {
      "text/html": [
       "<div>\n",
       "<style scoped>\n",
       "    .dataframe tbody tr th:only-of-type {\n",
       "        vertical-align: middle;\n",
       "    }\n",
       "\n",
       "    .dataframe tbody tr th {\n",
       "        vertical-align: top;\n",
       "    }\n",
       "\n",
       "    .dataframe thead th {\n",
       "        text-align: right;\n",
       "    }\n",
       "</style>\n",
       "<table border=\"1\" class=\"dataframe\">\n",
       "  <thead>\n",
       "    <tr style=\"text-align: right;\">\n",
       "      <th></th>\n",
       "      <th>web_page</th>\n",
       "      <th>user_id</th>\n",
       "      <th>cohort_id</th>\n",
       "      <th>ip</th>\n",
       "    </tr>\n",
       "    <tr>\n",
       "      <th>date_time</th>\n",
       "      <th></th>\n",
       "      <th></th>\n",
       "      <th></th>\n",
       "      <th></th>\n",
       "    </tr>\n",
       "  </thead>\n",
       "  <tbody>\n",
       "    <tr>\n",
       "      <th>2018-01-26 09:55:03</th>\n",
       "      <td>/</td>\n",
       "      <td>1</td>\n",
       "      <td>8.0</td>\n",
       "      <td>97.105.19.61</td>\n",
       "    </tr>\n",
       "    <tr>\n",
       "      <th>2018-01-26 09:56:02</th>\n",
       "      <td>java-ii</td>\n",
       "      <td>1</td>\n",
       "      <td>8.0</td>\n",
       "      <td>97.105.19.61</td>\n",
       "    </tr>\n",
       "    <tr>\n",
       "      <th>2018-01-26 09:56:05</th>\n",
       "      <td>java-ii/object-oriented-programming</td>\n",
       "      <td>1</td>\n",
       "      <td>8.0</td>\n",
       "      <td>97.105.19.61</td>\n",
       "    </tr>\n",
       "    <tr>\n",
       "      <th>2018-01-26 09:56:06</th>\n",
       "      <td>slides/object_oriented_programming</td>\n",
       "      <td>1</td>\n",
       "      <td>8.0</td>\n",
       "      <td>97.105.19.61</td>\n",
       "    </tr>\n",
       "    <tr>\n",
       "      <th>2018-01-26 09:56:24</th>\n",
       "      <td>javascript-i/conditionals</td>\n",
       "      <td>2</td>\n",
       "      <td>22.0</td>\n",
       "      <td>97.105.19.61</td>\n",
       "    </tr>\n",
       "  </tbody>\n",
       "</table>\n",
       "</div>"
      ],
      "text/plain": [
       "                                                web_page  user_id  cohort_id  \\\n",
       "date_time                                                                      \n",
       "2018-01-26 09:55:03                                    /        1        8.0   \n",
       "2018-01-26 09:56:02                              java-ii        1        8.0   \n",
       "2018-01-26 09:56:05  java-ii/object-oriented-programming        1        8.0   \n",
       "2018-01-26 09:56:06   slides/object_oriented_programming        1        8.0   \n",
       "2018-01-26 09:56:24            javascript-i/conditionals        2       22.0   \n",
       "\n",
       "                               ip  \n",
       "date_time                          \n",
       "2018-01-26 09:55:03  97.105.19.61  \n",
       "2018-01-26 09:56:02  97.105.19.61  \n",
       "2018-01-26 09:56:05  97.105.19.61  \n",
       "2018-01-26 09:56:06  97.105.19.61  \n",
       "2018-01-26 09:56:24  97.105.19.61  "
      ]
     },
     "execution_count": 9,
     "metadata": {},
     "output_type": "execute_result"
    }
   ],
   "source": [
    "df.drop(columns = ['date', 'timestamp'], inplace = True)\n",
    "df.head()"
   ]
  },
  {
   "cell_type": "markdown",
   "metadata": {},
   "source": [
    "#### Adding more columns that I'll need"
   ]
  },
  {
   "cell_type": "code",
   "execution_count": 10,
   "metadata": {},
   "outputs": [
    {
     "data": {
      "text/html": [
       "<div>\n",
       "<style scoped>\n",
       "    .dataframe tbody tr th:only-of-type {\n",
       "        vertical-align: middle;\n",
       "    }\n",
       "\n",
       "    .dataframe tbody tr th {\n",
       "        vertical-align: top;\n",
       "    }\n",
       "\n",
       "    .dataframe thead th {\n",
       "        text-align: right;\n",
       "    }\n",
       "</style>\n",
       "<table border=\"1\" class=\"dataframe\">\n",
       "  <thead>\n",
       "    <tr style=\"text-align: right;\">\n",
       "      <th></th>\n",
       "      <th>web_page</th>\n",
       "      <th>user_id</th>\n",
       "      <th>cohort_id</th>\n",
       "      <th>ip</th>\n",
       "      <th>year</th>\n",
       "      <th>month</th>\n",
       "      <th>day</th>\n",
       "      <th>weekday</th>\n",
       "      <th>hour</th>\n",
       "    </tr>\n",
       "    <tr>\n",
       "      <th>date_time</th>\n",
       "      <th></th>\n",
       "      <th></th>\n",
       "      <th></th>\n",
       "      <th></th>\n",
       "      <th></th>\n",
       "      <th></th>\n",
       "      <th></th>\n",
       "      <th></th>\n",
       "      <th></th>\n",
       "    </tr>\n",
       "  </thead>\n",
       "  <tbody>\n",
       "    <tr>\n",
       "      <th>2018-01-26 09:55:03</th>\n",
       "      <td>/</td>\n",
       "      <td>1</td>\n",
       "      <td>8.0</td>\n",
       "      <td>97.105.19.61</td>\n",
       "      <td>2018</td>\n",
       "      <td>1</td>\n",
       "      <td>1</td>\n",
       "      <td>Friday</td>\n",
       "      <td>9</td>\n",
       "    </tr>\n",
       "    <tr>\n",
       "      <th>2018-01-26 09:56:02</th>\n",
       "      <td>java-ii</td>\n",
       "      <td>1</td>\n",
       "      <td>8.0</td>\n",
       "      <td>97.105.19.61</td>\n",
       "      <td>2018</td>\n",
       "      <td>1</td>\n",
       "      <td>1</td>\n",
       "      <td>Friday</td>\n",
       "      <td>9</td>\n",
       "    </tr>\n",
       "    <tr>\n",
       "      <th>2018-01-26 09:56:05</th>\n",
       "      <td>java-ii/object-oriented-programming</td>\n",
       "      <td>1</td>\n",
       "      <td>8.0</td>\n",
       "      <td>97.105.19.61</td>\n",
       "      <td>2018</td>\n",
       "      <td>1</td>\n",
       "      <td>1</td>\n",
       "      <td>Friday</td>\n",
       "      <td>9</td>\n",
       "    </tr>\n",
       "    <tr>\n",
       "      <th>2018-01-26 09:56:06</th>\n",
       "      <td>slides/object_oriented_programming</td>\n",
       "      <td>1</td>\n",
       "      <td>8.0</td>\n",
       "      <td>97.105.19.61</td>\n",
       "      <td>2018</td>\n",
       "      <td>1</td>\n",
       "      <td>1</td>\n",
       "      <td>Friday</td>\n",
       "      <td>9</td>\n",
       "    </tr>\n",
       "    <tr>\n",
       "      <th>2018-01-26 09:56:24</th>\n",
       "      <td>javascript-i/conditionals</td>\n",
       "      <td>2</td>\n",
       "      <td>22.0</td>\n",
       "      <td>97.105.19.61</td>\n",
       "      <td>2018</td>\n",
       "      <td>1</td>\n",
       "      <td>1</td>\n",
       "      <td>Friday</td>\n",
       "      <td>9</td>\n",
       "    </tr>\n",
       "    <tr>\n",
       "      <th>...</th>\n",
       "      <td>...</td>\n",
       "      <td>...</td>\n",
       "      <td>...</td>\n",
       "      <td>...</td>\n",
       "      <td>...</td>\n",
       "      <td>...</td>\n",
       "      <td>...</td>\n",
       "      <td>...</td>\n",
       "      <td>...</td>\n",
       "    </tr>\n",
       "    <tr>\n",
       "      <th>2020-11-02 16:48:13</th>\n",
       "      <td>javascript-i/coffee-project</td>\n",
       "      <td>763</td>\n",
       "      <td>62.0</td>\n",
       "      <td>107.192.148.199</td>\n",
       "      <td>2020</td>\n",
       "      <td>11</td>\n",
       "      <td>11</td>\n",
       "      <td>Monday</td>\n",
       "      <td>16</td>\n",
       "    </tr>\n",
       "    <tr>\n",
       "      <th>2020-11-02 16:48:17</th>\n",
       "      <td>javascript-i/mapbox-api</td>\n",
       "      <td>771</td>\n",
       "      <td>62.0</td>\n",
       "      <td>172.125.226.175</td>\n",
       "      <td>2020</td>\n",
       "      <td>11</td>\n",
       "      <td>11</td>\n",
       "      <td>Monday</td>\n",
       "      <td>16</td>\n",
       "    </tr>\n",
       "    <tr>\n",
       "      <th>2020-11-02 16:48:18</th>\n",
       "      <td>javascript-i/coffee-project</td>\n",
       "      <td>771</td>\n",
       "      <td>62.0</td>\n",
       "      <td>172.125.226.175</td>\n",
       "      <td>2020</td>\n",
       "      <td>11</td>\n",
       "      <td>11</td>\n",
       "      <td>Monday</td>\n",
       "      <td>16</td>\n",
       "    </tr>\n",
       "    <tr>\n",
       "      <th>2020-11-02 16:48:28</th>\n",
       "      <td>javascript-i/bom-and-dom/bom</td>\n",
       "      <td>771</td>\n",
       "      <td>62.0</td>\n",
       "      <td>172.125.226.175</td>\n",
       "      <td>2020</td>\n",
       "      <td>11</td>\n",
       "      <td>11</td>\n",
       "      <td>Monday</td>\n",
       "      <td>16</td>\n",
       "    </tr>\n",
       "    <tr>\n",
       "      <th>2020-11-02 16:48:47</th>\n",
       "      <td>javascript-i/bom-and-dom/bom</td>\n",
       "      <td>763</td>\n",
       "      <td>62.0</td>\n",
       "      <td>107.192.148.199</td>\n",
       "      <td>2020</td>\n",
       "      <td>11</td>\n",
       "      <td>11</td>\n",
       "      <td>Monday</td>\n",
       "      <td>16</td>\n",
       "    </tr>\n",
       "  </tbody>\n",
       "</table>\n",
       "<p>719459 rows × 9 columns</p>\n",
       "</div>"
      ],
      "text/plain": [
       "                                                web_page  user_id  cohort_id  \\\n",
       "date_time                                                                      \n",
       "2018-01-26 09:55:03                                    /        1        8.0   \n",
       "2018-01-26 09:56:02                              java-ii        1        8.0   \n",
       "2018-01-26 09:56:05  java-ii/object-oriented-programming        1        8.0   \n",
       "2018-01-26 09:56:06   slides/object_oriented_programming        1        8.0   \n",
       "2018-01-26 09:56:24            javascript-i/conditionals        2       22.0   \n",
       "...                                                  ...      ...        ...   \n",
       "2020-11-02 16:48:13          javascript-i/coffee-project      763       62.0   \n",
       "2020-11-02 16:48:17              javascript-i/mapbox-api      771       62.0   \n",
       "2020-11-02 16:48:18          javascript-i/coffee-project      771       62.0   \n",
       "2020-11-02 16:48:28         javascript-i/bom-and-dom/bom      771       62.0   \n",
       "2020-11-02 16:48:47         javascript-i/bom-and-dom/bom      763       62.0   \n",
       "\n",
       "                                  ip  year  month  day weekday  hour  \n",
       "date_time                                                             \n",
       "2018-01-26 09:55:03     97.105.19.61  2018      1    1  Friday     9  \n",
       "2018-01-26 09:56:02     97.105.19.61  2018      1    1  Friday     9  \n",
       "2018-01-26 09:56:05     97.105.19.61  2018      1    1  Friday     9  \n",
       "2018-01-26 09:56:06     97.105.19.61  2018      1    1  Friday     9  \n",
       "2018-01-26 09:56:24     97.105.19.61  2018      1    1  Friday     9  \n",
       "...                              ...   ...    ...  ...     ...   ...  \n",
       "2020-11-02 16:48:13  107.192.148.199  2020     11   11  Monday    16  \n",
       "2020-11-02 16:48:17  172.125.226.175  2020     11   11  Monday    16  \n",
       "2020-11-02 16:48:18  172.125.226.175  2020     11   11  Monday    16  \n",
       "2020-11-02 16:48:28  172.125.226.175  2020     11   11  Monday    16  \n",
       "2020-11-02 16:48:47  107.192.148.199  2020     11   11  Monday    16  \n",
       "\n",
       "[719459 rows x 9 columns]"
      ]
     },
     "execution_count": 10,
     "metadata": {},
     "output_type": "execute_result"
    }
   ],
   "source": [
    "df['year'] = df.index.year\n",
    "df['month'] = df.index.month\n",
    "df['day'] = df.index.month\n",
    "df['weekday'] = df.index.day_name()\n",
    "df['hour'] = df.index.hour\n",
    "df"
   ]
  },
  {
   "cell_type": "code",
   "execution_count": 11,
   "metadata": {},
   "outputs": [
    {
     "data": {
      "text/plain": [
       "2019-03-03 22:52:09    30\n",
       "2019-03-03 22:52:07    30\n",
       "2019-03-03 22:52:10    25\n",
       "2019-03-03 22:52:11    25\n",
       "2019-03-03 22:52:08    25\n",
       "                       ..\n",
       "2018-12-28 00:14:34     1\n",
       "2019-10-03 13:42:14     1\n",
       "2020-03-01 16:25:57     1\n",
       "2020-07-28 08:57:20     1\n",
       "2019-12-01 21:34:04     1\n",
       "Name: date_time, Length: 688452, dtype: int64"
      ]
     },
     "execution_count": 11,
     "metadata": {},
     "output_type": "execute_result"
    }
   ],
   "source": [
    "df.index.value_counts()"
   ]
  },
  {
   "cell_type": "markdown",
   "metadata": {},
   "source": [
    "#### Data Prepped."
   ]
  },
  {
   "cell_type": "markdown",
   "metadata": {},
   "source": [
    "# Explore\n",
    "\n",
    "#### Questions I want to answer:\n",
    "- Are there any users who are accessing the curriculum beyond the end of their codeup time?\n",
    "- Are there any users who are accessing the data at odd hours?\n",
    "- Can I find my own student id?\n",
    "- Can I identify all student ids by cohort?"
   ]
  },
  {
   "cell_type": "markdown",
   "metadata": {},
   "source": [
    "### Splitting into train/test"
   ]
  },
  {
   "cell_type": "code",
   "execution_count": 12,
   "metadata": {},
   "outputs": [
    {
     "data": {
      "text/plain": [
       "(Timestamp('2018-01-26 09:55:03'), Timestamp('2020-11-02 16:48:47'))"
      ]
     },
     "execution_count": 12,
     "metadata": {},
     "output_type": "execute_result"
    }
   ],
   "source": [
    "df.index.min(), df.index.max()"
   ]
  },
  {
   "cell_type": "code",
   "execution_count": 13,
   "metadata": {},
   "outputs": [
    {
     "data": {
      "text/plain": [
       "1.0      8884\n",
       "2.0        93\n",
       "4.0         4\n",
       "5.0         1\n",
       "6.0        72\n",
       "7.0       495\n",
       "8.0      1712\n",
       "9.0         5\n",
       "11.0      208\n",
       "12.0      302\n",
       "13.0     2733\n",
       "14.0     9495\n",
       "15.0      691\n",
       "16.0      743\n",
       "17.0     4925\n",
       "18.0     2005\n",
       "19.0     1165\n",
       "21.0     7444\n",
       "22.0    30328\n",
       "23.0    28329\n",
       "24.0    35624\n",
       "25.0    25427\n",
       "26.0    27637\n",
       "27.0    20447\n",
       "28.0    60315\n",
       "29.0    37548\n",
       "31.0    25253\n",
       "32.0    28333\n",
       "33.0    40168\n",
       "34.0    25181\n",
       "51.0    29688\n",
       "52.0    27518\n",
       "53.0    36047\n",
       "55.0    20411\n",
       "56.0    31670\n",
       "57.0    32447\n",
       "58.0    28354\n",
       "59.0    22425\n",
       "61.0    11774\n",
       "62.0     8718\n",
       "Name: cohort_id, dtype: int64"
      ]
     },
     "execution_count": 13,
     "metadata": {},
     "output_type": "execute_result"
    }
   ],
   "source": [
    "# Isolating down to a single cohort.\n",
    "\n",
    "df.cohort_id.value_counts().sort_index()"
   ]
  },
  {
   "cell_type": "code",
   "execution_count": 14,
   "metadata": {},
   "outputs": [
    {
     "data": {
      "text/html": [
       "<div>\n",
       "<style scoped>\n",
       "    .dataframe tbody tr th:only-of-type {\n",
       "        vertical-align: middle;\n",
       "    }\n",
       "\n",
       "    .dataframe tbody tr th {\n",
       "        vertical-align: top;\n",
       "    }\n",
       "\n",
       "    .dataframe thead th {\n",
       "        text-align: right;\n",
       "    }\n",
       "</style>\n",
       "<table border=\"1\" class=\"dataframe\">\n",
       "  <thead>\n",
       "    <tr style=\"text-align: right;\">\n",
       "      <th></th>\n",
       "      <th>web_page</th>\n",
       "      <th>user_id</th>\n",
       "      <th>cohort_id</th>\n",
       "      <th>ip</th>\n",
       "      <th>year</th>\n",
       "      <th>month</th>\n",
       "      <th>day</th>\n",
       "      <th>weekday</th>\n",
       "      <th>hour</th>\n",
       "    </tr>\n",
       "    <tr>\n",
       "      <th>date_time</th>\n",
       "      <th></th>\n",
       "      <th></th>\n",
       "      <th></th>\n",
       "      <th></th>\n",
       "      <th></th>\n",
       "      <th></th>\n",
       "      <th></th>\n",
       "      <th></th>\n",
       "      <th></th>\n",
       "    </tr>\n",
       "  </thead>\n",
       "  <tbody>\n",
       "    <tr>\n",
       "      <th>2020-07-13 14:34:44</th>\n",
       "      <td>/</td>\n",
       "      <td>678</td>\n",
       "      <td>59.0</td>\n",
       "      <td>76.201.20.193</td>\n",
       "      <td>2020</td>\n",
       "      <td>7</td>\n",
       "      <td>7</td>\n",
       "      <td>Monday</td>\n",
       "      <td>14</td>\n",
       "    </tr>\n",
       "    <tr>\n",
       "      <th>2020-07-13 14:37:22</th>\n",
       "      <td>/</td>\n",
       "      <td>679</td>\n",
       "      <td>59.0</td>\n",
       "      <td>24.28.146.155</td>\n",
       "      <td>2020</td>\n",
       "      <td>7</td>\n",
       "      <td>7</td>\n",
       "      <td>Monday</td>\n",
       "      <td>14</td>\n",
       "    </tr>\n",
       "    <tr>\n",
       "      <th>2020-07-13 14:38:28</th>\n",
       "      <td>/</td>\n",
       "      <td>680</td>\n",
       "      <td>59.0</td>\n",
       "      <td>136.50.56.155</td>\n",
       "      <td>2020</td>\n",
       "      <td>7</td>\n",
       "      <td>7</td>\n",
       "      <td>Monday</td>\n",
       "      <td>14</td>\n",
       "    </tr>\n",
       "    <tr>\n",
       "      <th>2020-07-13 14:39:21</th>\n",
       "      <td>13-advanced-topics/1-tidy-data</td>\n",
       "      <td>679</td>\n",
       "      <td>59.0</td>\n",
       "      <td>24.28.146.155</td>\n",
       "      <td>2020</td>\n",
       "      <td>7</td>\n",
       "      <td>7</td>\n",
       "      <td>Monday</td>\n",
       "      <td>14</td>\n",
       "    </tr>\n",
       "    <tr>\n",
       "      <th>2020-07-13 14:39:36</th>\n",
       "      <td>1-fundamentals/1.1-intro-to-data-science</td>\n",
       "      <td>679</td>\n",
       "      <td>59.0</td>\n",
       "      <td>24.28.146.155</td>\n",
       "      <td>2020</td>\n",
       "      <td>7</td>\n",
       "      <td>7</td>\n",
       "      <td>Monday</td>\n",
       "      <td>14</td>\n",
       "    </tr>\n",
       "    <tr>\n",
       "      <th>...</th>\n",
       "      <td>...</td>\n",
       "      <td>...</td>\n",
       "      <td>...</td>\n",
       "      <td>...</td>\n",
       "      <td>...</td>\n",
       "      <td>...</td>\n",
       "      <td>...</td>\n",
       "      <td>...</td>\n",
       "      <td>...</td>\n",
       "    </tr>\n",
       "    <tr>\n",
       "      <th>2020-11-02 15:47:59</th>\n",
       "      <td>appendix/useful_libraries</td>\n",
       "      <td>698</td>\n",
       "      <td>59.0</td>\n",
       "      <td>24.28.150.196</td>\n",
       "      <td>2020</td>\n",
       "      <td>11</td>\n",
       "      <td>11</td>\n",
       "      <td>Monday</td>\n",
       "      <td>15</td>\n",
       "    </tr>\n",
       "    <tr>\n",
       "      <th>2020-11-02 15:48:03</th>\n",
       "      <td>appendix/ds-environment-setup</td>\n",
       "      <td>698</td>\n",
       "      <td>59.0</td>\n",
       "      <td>24.28.150.196</td>\n",
       "      <td>2020</td>\n",
       "      <td>11</td>\n",
       "      <td>11</td>\n",
       "      <td>Monday</td>\n",
       "      <td>15</td>\n",
       "    </tr>\n",
       "    <tr>\n",
       "      <th>2020-11-02 15:48:14</th>\n",
       "      <td>appendix/interview_questions_students</td>\n",
       "      <td>698</td>\n",
       "      <td>59.0</td>\n",
       "      <td>24.28.150.196</td>\n",
       "      <td>2020</td>\n",
       "      <td>11</td>\n",
       "      <td>11</td>\n",
       "      <td>Monday</td>\n",
       "      <td>15</td>\n",
       "    </tr>\n",
       "    <tr>\n",
       "      <th>2020-11-02 15:50:07</th>\n",
       "      <td>appendix/open_data</td>\n",
       "      <td>698</td>\n",
       "      <td>59.0</td>\n",
       "      <td>24.28.150.196</td>\n",
       "      <td>2020</td>\n",
       "      <td>11</td>\n",
       "      <td>11</td>\n",
       "      <td>Monday</td>\n",
       "      <td>15</td>\n",
       "    </tr>\n",
       "    <tr>\n",
       "      <th>2020-11-02 15:52:23</th>\n",
       "      <td>timeseries/sarimax</td>\n",
       "      <td>698</td>\n",
       "      <td>59.0</td>\n",
       "      <td>24.28.150.196</td>\n",
       "      <td>2020</td>\n",
       "      <td>11</td>\n",
       "      <td>11</td>\n",
       "      <td>Monday</td>\n",
       "      <td>15</td>\n",
       "    </tr>\n",
       "  </tbody>\n",
       "</table>\n",
       "<p>22425 rows × 9 columns</p>\n",
       "</div>"
      ],
      "text/plain": [
       "                                                     web_page  user_id  \\\n",
       "date_time                                                                \n",
       "2020-07-13 14:34:44                                         /      678   \n",
       "2020-07-13 14:37:22                                         /      679   \n",
       "2020-07-13 14:38:28                                         /      680   \n",
       "2020-07-13 14:39:21            13-advanced-topics/1-tidy-data      679   \n",
       "2020-07-13 14:39:36  1-fundamentals/1.1-intro-to-data-science      679   \n",
       "...                                                       ...      ...   \n",
       "2020-11-02 15:47:59                 appendix/useful_libraries      698   \n",
       "2020-11-02 15:48:03             appendix/ds-environment-setup      698   \n",
       "2020-11-02 15:48:14     appendix/interview_questions_students      698   \n",
       "2020-11-02 15:50:07                        appendix/open_data      698   \n",
       "2020-11-02 15:52:23                        timeseries/sarimax      698   \n",
       "\n",
       "                     cohort_id             ip  year  month  day weekday  hour  \n",
       "date_time                                                                      \n",
       "2020-07-13 14:34:44       59.0  76.201.20.193  2020      7    7  Monday    14  \n",
       "2020-07-13 14:37:22       59.0  24.28.146.155  2020      7    7  Monday    14  \n",
       "2020-07-13 14:38:28       59.0  136.50.56.155  2020      7    7  Monday    14  \n",
       "2020-07-13 14:39:21       59.0  24.28.146.155  2020      7    7  Monday    14  \n",
       "2020-07-13 14:39:36       59.0  24.28.146.155  2020      7    7  Monday    14  \n",
       "...                        ...            ...   ...    ...  ...     ...   ...  \n",
       "2020-11-02 15:47:59       59.0  24.28.150.196  2020     11   11  Monday    15  \n",
       "2020-11-02 15:48:03       59.0  24.28.150.196  2020     11   11  Monday    15  \n",
       "2020-11-02 15:48:14       59.0  24.28.150.196  2020     11   11  Monday    15  \n",
       "2020-11-02 15:50:07       59.0  24.28.150.196  2020     11   11  Monday    15  \n",
       "2020-11-02 15:52:23       59.0  24.28.150.196  2020     11   11  Monday    15  \n",
       "\n",
       "[22425 rows x 9 columns]"
      ]
     },
     "execution_count": 14,
     "metadata": {},
     "output_type": "execute_result"
    }
   ],
   "source": [
    "df[df['cohort_id'] == 59.0]"
   ]
  },
  {
   "cell_type": "code",
   "execution_count": 15,
   "metadata": {},
   "outputs": [
    {
     "data": {
      "text/html": [
       "<div>\n",
       "<style scoped>\n",
       "    .dataframe tbody tr th:only-of-type {\n",
       "        vertical-align: middle;\n",
       "    }\n",
       "\n",
       "    .dataframe tbody tr th {\n",
       "        vertical-align: top;\n",
       "    }\n",
       "\n",
       "    .dataframe thead th {\n",
       "        text-align: right;\n",
       "    }\n",
       "</style>\n",
       "<table border=\"1\" class=\"dataframe\">\n",
       "  <thead>\n",
       "    <tr style=\"text-align: right;\">\n",
       "      <th></th>\n",
       "      <th>web_page</th>\n",
       "      <th>user_id</th>\n",
       "      <th>cohort_id</th>\n",
       "      <th>ip</th>\n",
       "      <th>year</th>\n",
       "      <th>month</th>\n",
       "      <th>day</th>\n",
       "      <th>weekday</th>\n",
       "      <th>hour</th>\n",
       "    </tr>\n",
       "    <tr>\n",
       "      <th>date_time</th>\n",
       "      <th></th>\n",
       "      <th></th>\n",
       "      <th></th>\n",
       "      <th></th>\n",
       "      <th></th>\n",
       "      <th></th>\n",
       "      <th></th>\n",
       "      <th></th>\n",
       "      <th></th>\n",
       "    </tr>\n",
       "  </thead>\n",
       "  <tbody>\n",
       "    <tr>\n",
       "      <th>2020-07-13 14:34:44</th>\n",
       "      <td>/</td>\n",
       "      <td>678</td>\n",
       "      <td>59.0</td>\n",
       "      <td>76.201.20.193</td>\n",
       "      <td>2020</td>\n",
       "      <td>7</td>\n",
       "      <td>7</td>\n",
       "      <td>Monday</td>\n",
       "      <td>14</td>\n",
       "    </tr>\n",
       "    <tr>\n",
       "      <th>2020-07-13 14:37:22</th>\n",
       "      <td>/</td>\n",
       "      <td>679</td>\n",
       "      <td>59.0</td>\n",
       "      <td>24.28.146.155</td>\n",
       "      <td>2020</td>\n",
       "      <td>7</td>\n",
       "      <td>7</td>\n",
       "      <td>Monday</td>\n",
       "      <td>14</td>\n",
       "    </tr>\n",
       "    <tr>\n",
       "      <th>2020-07-13 14:38:28</th>\n",
       "      <td>/</td>\n",
       "      <td>680</td>\n",
       "      <td>59.0</td>\n",
       "      <td>136.50.56.155</td>\n",
       "      <td>2020</td>\n",
       "      <td>7</td>\n",
       "      <td>7</td>\n",
       "      <td>Monday</td>\n",
       "      <td>14</td>\n",
       "    </tr>\n",
       "    <tr>\n",
       "      <th>2020-07-13 14:39:21</th>\n",
       "      <td>13-advanced-topics/1-tidy-data</td>\n",
       "      <td>679</td>\n",
       "      <td>59.0</td>\n",
       "      <td>24.28.146.155</td>\n",
       "      <td>2020</td>\n",
       "      <td>7</td>\n",
       "      <td>7</td>\n",
       "      <td>Monday</td>\n",
       "      <td>14</td>\n",
       "    </tr>\n",
       "    <tr>\n",
       "      <th>2020-07-13 14:39:36</th>\n",
       "      <td>1-fundamentals/1.1-intro-to-data-science</td>\n",
       "      <td>679</td>\n",
       "      <td>59.0</td>\n",
       "      <td>24.28.146.155</td>\n",
       "      <td>2020</td>\n",
       "      <td>7</td>\n",
       "      <td>7</td>\n",
       "      <td>Monday</td>\n",
       "      <td>14</td>\n",
       "    </tr>\n",
       "    <tr>\n",
       "      <th>...</th>\n",
       "      <td>...</td>\n",
       "      <td>...</td>\n",
       "      <td>...</td>\n",
       "      <td>...</td>\n",
       "      <td>...</td>\n",
       "      <td>...</td>\n",
       "      <td>...</td>\n",
       "      <td>...</td>\n",
       "      <td>...</td>\n",
       "    </tr>\n",
       "    <tr>\n",
       "      <th>2020-11-02 15:47:59</th>\n",
       "      <td>appendix/useful_libraries</td>\n",
       "      <td>698</td>\n",
       "      <td>59.0</td>\n",
       "      <td>24.28.150.196</td>\n",
       "      <td>2020</td>\n",
       "      <td>11</td>\n",
       "      <td>11</td>\n",
       "      <td>Monday</td>\n",
       "      <td>15</td>\n",
       "    </tr>\n",
       "    <tr>\n",
       "      <th>2020-11-02 15:48:03</th>\n",
       "      <td>appendix/ds-environment-setup</td>\n",
       "      <td>698</td>\n",
       "      <td>59.0</td>\n",
       "      <td>24.28.150.196</td>\n",
       "      <td>2020</td>\n",
       "      <td>11</td>\n",
       "      <td>11</td>\n",
       "      <td>Monday</td>\n",
       "      <td>15</td>\n",
       "    </tr>\n",
       "    <tr>\n",
       "      <th>2020-11-02 15:48:14</th>\n",
       "      <td>appendix/interview_questions_students</td>\n",
       "      <td>698</td>\n",
       "      <td>59.0</td>\n",
       "      <td>24.28.150.196</td>\n",
       "      <td>2020</td>\n",
       "      <td>11</td>\n",
       "      <td>11</td>\n",
       "      <td>Monday</td>\n",
       "      <td>15</td>\n",
       "    </tr>\n",
       "    <tr>\n",
       "      <th>2020-11-02 15:50:07</th>\n",
       "      <td>appendix/open_data</td>\n",
       "      <td>698</td>\n",
       "      <td>59.0</td>\n",
       "      <td>24.28.150.196</td>\n",
       "      <td>2020</td>\n",
       "      <td>11</td>\n",
       "      <td>11</td>\n",
       "      <td>Monday</td>\n",
       "      <td>15</td>\n",
       "    </tr>\n",
       "    <tr>\n",
       "      <th>2020-11-02 15:52:23</th>\n",
       "      <td>timeseries/sarimax</td>\n",
       "      <td>698</td>\n",
       "      <td>59.0</td>\n",
       "      <td>24.28.150.196</td>\n",
       "      <td>2020</td>\n",
       "      <td>11</td>\n",
       "      <td>11</td>\n",
       "      <td>Monday</td>\n",
       "      <td>15</td>\n",
       "    </tr>\n",
       "  </tbody>\n",
       "</table>\n",
       "<p>22425 rows × 9 columns</p>\n",
       "</div>"
      ],
      "text/plain": [
       "                                                     web_page  user_id  \\\n",
       "date_time                                                                \n",
       "2020-07-13 14:34:44                                         /      678   \n",
       "2020-07-13 14:37:22                                         /      679   \n",
       "2020-07-13 14:38:28                                         /      680   \n",
       "2020-07-13 14:39:21            13-advanced-topics/1-tidy-data      679   \n",
       "2020-07-13 14:39:36  1-fundamentals/1.1-intro-to-data-science      679   \n",
       "...                                                       ...      ...   \n",
       "2020-11-02 15:47:59                 appendix/useful_libraries      698   \n",
       "2020-11-02 15:48:03             appendix/ds-environment-setup      698   \n",
       "2020-11-02 15:48:14     appendix/interview_questions_students      698   \n",
       "2020-11-02 15:50:07                        appendix/open_data      698   \n",
       "2020-11-02 15:52:23                        timeseries/sarimax      698   \n",
       "\n",
       "                     cohort_id             ip  year  month  day weekday  hour  \n",
       "date_time                                                                      \n",
       "2020-07-13 14:34:44       59.0  76.201.20.193  2020      7    7  Monday    14  \n",
       "2020-07-13 14:37:22       59.0  24.28.146.155  2020      7    7  Monday    14  \n",
       "2020-07-13 14:38:28       59.0  136.50.56.155  2020      7    7  Monday    14  \n",
       "2020-07-13 14:39:21       59.0  24.28.146.155  2020      7    7  Monday    14  \n",
       "2020-07-13 14:39:36       59.0  24.28.146.155  2020      7    7  Monday    14  \n",
       "...                        ...            ...   ...    ...  ...     ...   ...  \n",
       "2020-11-02 15:47:59       59.0  24.28.150.196  2020     11   11  Monday    15  \n",
       "2020-11-02 15:48:03       59.0  24.28.150.196  2020     11   11  Monday    15  \n",
       "2020-11-02 15:48:14       59.0  24.28.150.196  2020     11   11  Monday    15  \n",
       "2020-11-02 15:50:07       59.0  24.28.150.196  2020     11   11  Monday    15  \n",
       "2020-11-02 15:52:23       59.0  24.28.150.196  2020     11   11  Monday    15  \n",
       "\n",
       "[22425 rows x 9 columns]"
      ]
     },
     "execution_count": 15,
     "metadata": {},
     "output_type": "execute_result"
    }
   ],
   "source": [
    "# Can I find the start date by cohort id? Yes\n",
    "# Can I find the darden cohort? The target start date would be 7-13-2020:\n",
    "\n",
    "darden = df[df['cohort_id'] == 59.0]\n",
    "\n",
    "darden"
   ]
  },
  {
   "cell_type": "markdown",
   "metadata": {},
   "source": [
    "#### Takeaways:\n",
    "\n",
    "- Darden's cohort appears to be cohort id 59.0 because the first date anyone from that cohort accessed the database was on July 13th, 2020.\n",
    "- Now, I'm going to calculate the number of users within the cohort over time..."
   ]
  },
  {
   "cell_type": "code",
   "execution_count": 16,
   "metadata": {},
   "outputs": [
    {
     "name": "stdout",
     "output_type": "stream",
     "text": [
      "Cohort dates were from 2020-07-13 14:34:44 thru 2020-11-02 15:52:23\n"
     ]
    }
   ],
   "source": [
    "# This prints out the start date of the cohort to the most recent date we have data for.\n",
    "print(\"Cohort dates were from\", df[df['cohort_id'] == 59.0].index.min(), \"thru\", df[df['cohort_id'] == 59.0].index.max())\n"
   ]
  },
  {
   "cell_type": "code",
   "execution_count": 17,
   "metadata": {},
   "outputs": [
    {
     "data": {
      "text/plain": [
       "timeseries/modeling-lesson1                               22\n",
       "classification/scale_features_or_not.svg                  19\n",
       "classification/overview                                   18\n",
       "/                                                         17\n",
       "anomaly-detection/overview                                12\n",
       "anomaly-detection/AnomalyDetectionCartoon.jpeg            12\n",
       "timeseries/modeling-lesson2                               11\n",
       "timeseries/working-with-time-series-data                   8\n",
       "timeseries/project                                         7\n",
       "timeseries/explore                                         5\n",
       "timeseries/prep                                            4\n",
       "search/search_index.json                                   3\n",
       "timeseries/sarimax                                         2\n",
       "appendix/useful_libraries                                  2\n",
       "timeseries/working-with-time-series-data-with-pandas       2\n",
       "timeseries/svr                                             2\n",
       "timeseries/acquire                                         2\n",
       "appendix/documentation                                     2\n",
       "timeseries/overview                                        2\n",
       "appendix/open_data                                         1\n",
       "nlp/github_repo_language.gif                               1\n",
       "fundamentals/spreadsheets-overview                         1\n",
       "stats/correlation                                          1\n",
       "appendix/coding-challenges/professional                    1\n",
       "python/introduction-to-python                              1\n",
       "appendix/interview_questions_students                      1\n",
       "anomaly-detection/continuous-probabilistic-methods         1\n",
       "fundamentals/environment-setup                             1\n",
       "classification/acquire                                     1\n",
       "anomaly-detection/time-series-anomaly-detection-part-1     1\n",
       "sql/database-design                                        1\n",
       "sql/mysql-overview                                         1\n",
       "appendix/ds-environment-setup                              1\n",
       "nlp/project                                                1\n",
       "python/advanced-dataframes                                 1\n",
       "appendix/coding-challenges/intermediate                    1\n",
       "Name: web_page, dtype: int64"
      ]
     },
     "execution_count": 17,
     "metadata": {},
     "output_type": "execute_result"
    }
   ],
   "source": [
    "# What questions now?\n",
    "# How many users were in the start of the cohort?\n",
    "\n",
    "darden['2020-11-02'].web_page.value_counts()"
   ]
  },
  {
   "cell_type": "code",
   "execution_count": 18,
   "metadata": {},
   "outputs": [
    {
     "data": {
      "text/plain": [
       "169"
      ]
     },
     "execution_count": 18,
     "metadata": {},
     "output_type": "execute_result"
    }
   ],
   "source": [
    "(darden['2020-11-02']['web_page'] == 'python/advanced-dataframes').count()"
   ]
  },
  {
   "cell_type": "code",
   "execution_count": 19,
   "metadata": {},
   "outputs": [
    {
     "data": {
      "text/html": [
       "<div>\n",
       "<style scoped>\n",
       "    .dataframe tbody tr th:only-of-type {\n",
       "        vertical-align: middle;\n",
       "    }\n",
       "\n",
       "    .dataframe tbody tr th {\n",
       "        vertical-align: top;\n",
       "    }\n",
       "\n",
       "    .dataframe thead th {\n",
       "        text-align: right;\n",
       "    }\n",
       "</style>\n",
       "<table border=\"1\" class=\"dataframe\">\n",
       "  <thead>\n",
       "    <tr style=\"text-align: right;\">\n",
       "      <th></th>\n",
       "      <th>web_page</th>\n",
       "      <th>user_id</th>\n",
       "      <th>cohort_id</th>\n",
       "      <th>ip</th>\n",
       "      <th>year</th>\n",
       "      <th>month</th>\n",
       "      <th>day</th>\n",
       "      <th>weekday</th>\n",
       "      <th>hour</th>\n",
       "    </tr>\n",
       "    <tr>\n",
       "      <th>date_time</th>\n",
       "      <th></th>\n",
       "      <th></th>\n",
       "      <th></th>\n",
       "      <th></th>\n",
       "      <th></th>\n",
       "      <th></th>\n",
       "      <th></th>\n",
       "      <th></th>\n",
       "      <th></th>\n",
       "    </tr>\n",
       "  </thead>\n",
       "  <tbody>\n",
       "    <tr>\n",
       "      <th>2018-01-26 09:55:03</th>\n",
       "      <td>/</td>\n",
       "      <td>1</td>\n",
       "      <td>8.0</td>\n",
       "      <td>97.105.19.61</td>\n",
       "      <td>2018</td>\n",
       "      <td>1</td>\n",
       "      <td>1</td>\n",
       "      <td>Friday</td>\n",
       "      <td>9</td>\n",
       "    </tr>\n",
       "    <tr>\n",
       "      <th>2018-01-26 09:56:02</th>\n",
       "      <td>java-ii</td>\n",
       "      <td>1</td>\n",
       "      <td>8.0</td>\n",
       "      <td>97.105.19.61</td>\n",
       "      <td>2018</td>\n",
       "      <td>1</td>\n",
       "      <td>1</td>\n",
       "      <td>Friday</td>\n",
       "      <td>9</td>\n",
       "    </tr>\n",
       "    <tr>\n",
       "      <th>2018-01-26 09:56:05</th>\n",
       "      <td>java-ii/object-oriented-programming</td>\n",
       "      <td>1</td>\n",
       "      <td>8.0</td>\n",
       "      <td>97.105.19.61</td>\n",
       "      <td>2018</td>\n",
       "      <td>1</td>\n",
       "      <td>1</td>\n",
       "      <td>Friday</td>\n",
       "      <td>9</td>\n",
       "    </tr>\n",
       "    <tr>\n",
       "      <th>2018-01-26 09:56:06</th>\n",
       "      <td>slides/object_oriented_programming</td>\n",
       "      <td>1</td>\n",
       "      <td>8.0</td>\n",
       "      <td>97.105.19.61</td>\n",
       "      <td>2018</td>\n",
       "      <td>1</td>\n",
       "      <td>1</td>\n",
       "      <td>Friday</td>\n",
       "      <td>9</td>\n",
       "    </tr>\n",
       "    <tr>\n",
       "      <th>2018-01-26 09:56:24</th>\n",
       "      <td>javascript-i/conditionals</td>\n",
       "      <td>2</td>\n",
       "      <td>22.0</td>\n",
       "      <td>97.105.19.61</td>\n",
       "      <td>2018</td>\n",
       "      <td>1</td>\n",
       "      <td>1</td>\n",
       "      <td>Friday</td>\n",
       "      <td>9</td>\n",
       "    </tr>\n",
       "    <tr>\n",
       "      <th>...</th>\n",
       "      <td>...</td>\n",
       "      <td>...</td>\n",
       "      <td>...</td>\n",
       "      <td>...</td>\n",
       "      <td>...</td>\n",
       "      <td>...</td>\n",
       "      <td>...</td>\n",
       "      <td>...</td>\n",
       "      <td>...</td>\n",
       "    </tr>\n",
       "    <tr>\n",
       "      <th>2020-11-02 16:48:13</th>\n",
       "      <td>javascript-i/coffee-project</td>\n",
       "      <td>763</td>\n",
       "      <td>62.0</td>\n",
       "      <td>107.192.148.199</td>\n",
       "      <td>2020</td>\n",
       "      <td>11</td>\n",
       "      <td>11</td>\n",
       "      <td>Monday</td>\n",
       "      <td>16</td>\n",
       "    </tr>\n",
       "    <tr>\n",
       "      <th>2020-11-02 16:48:17</th>\n",
       "      <td>javascript-i/mapbox-api</td>\n",
       "      <td>771</td>\n",
       "      <td>62.0</td>\n",
       "      <td>172.125.226.175</td>\n",
       "      <td>2020</td>\n",
       "      <td>11</td>\n",
       "      <td>11</td>\n",
       "      <td>Monday</td>\n",
       "      <td>16</td>\n",
       "    </tr>\n",
       "    <tr>\n",
       "      <th>2020-11-02 16:48:18</th>\n",
       "      <td>javascript-i/coffee-project</td>\n",
       "      <td>771</td>\n",
       "      <td>62.0</td>\n",
       "      <td>172.125.226.175</td>\n",
       "      <td>2020</td>\n",
       "      <td>11</td>\n",
       "      <td>11</td>\n",
       "      <td>Monday</td>\n",
       "      <td>16</td>\n",
       "    </tr>\n",
       "    <tr>\n",
       "      <th>2020-11-02 16:48:28</th>\n",
       "      <td>javascript-i/bom-and-dom/bom</td>\n",
       "      <td>771</td>\n",
       "      <td>62.0</td>\n",
       "      <td>172.125.226.175</td>\n",
       "      <td>2020</td>\n",
       "      <td>11</td>\n",
       "      <td>11</td>\n",
       "      <td>Monday</td>\n",
       "      <td>16</td>\n",
       "    </tr>\n",
       "    <tr>\n",
       "      <th>2020-11-02 16:48:47</th>\n",
       "      <td>javascript-i/bom-and-dom/bom</td>\n",
       "      <td>763</td>\n",
       "      <td>62.0</td>\n",
       "      <td>107.192.148.199</td>\n",
       "      <td>2020</td>\n",
       "      <td>11</td>\n",
       "      <td>11</td>\n",
       "      <td>Monday</td>\n",
       "      <td>16</td>\n",
       "    </tr>\n",
       "  </tbody>\n",
       "</table>\n",
       "<p>719459 rows × 9 columns</p>\n",
       "</div>"
      ],
      "text/plain": [
       "                                                web_page  user_id  cohort_id  \\\n",
       "date_time                                                                      \n",
       "2018-01-26 09:55:03                                    /        1        8.0   \n",
       "2018-01-26 09:56:02                              java-ii        1        8.0   \n",
       "2018-01-26 09:56:05  java-ii/object-oriented-programming        1        8.0   \n",
       "2018-01-26 09:56:06   slides/object_oriented_programming        1        8.0   \n",
       "2018-01-26 09:56:24            javascript-i/conditionals        2       22.0   \n",
       "...                                                  ...      ...        ...   \n",
       "2020-11-02 16:48:13          javascript-i/coffee-project      763       62.0   \n",
       "2020-11-02 16:48:17              javascript-i/mapbox-api      771       62.0   \n",
       "2020-11-02 16:48:18          javascript-i/coffee-project      771       62.0   \n",
       "2020-11-02 16:48:28         javascript-i/bom-and-dom/bom      771       62.0   \n",
       "2020-11-02 16:48:47         javascript-i/bom-and-dom/bom      763       62.0   \n",
       "\n",
       "                                  ip  year  month  day weekday  hour  \n",
       "date_time                                                             \n",
       "2018-01-26 09:55:03     97.105.19.61  2018      1    1  Friday     9  \n",
       "2018-01-26 09:56:02     97.105.19.61  2018      1    1  Friday     9  \n",
       "2018-01-26 09:56:05     97.105.19.61  2018      1    1  Friday     9  \n",
       "2018-01-26 09:56:06     97.105.19.61  2018      1    1  Friday     9  \n",
       "2018-01-26 09:56:24     97.105.19.61  2018      1    1  Friday     9  \n",
       "...                              ...   ...    ...  ...     ...   ...  \n",
       "2020-11-02 16:48:13  107.192.148.199  2020     11   11  Monday    16  \n",
       "2020-11-02 16:48:17  172.125.226.175  2020     11   11  Monday    16  \n",
       "2020-11-02 16:48:18  172.125.226.175  2020     11   11  Monday    16  \n",
       "2020-11-02 16:48:28  172.125.226.175  2020     11   11  Monday    16  \n",
       "2020-11-02 16:48:47  107.192.148.199  2020     11   11  Monday    16  \n",
       "\n",
       "[719459 rows x 9 columns]"
      ]
     },
     "execution_count": 19,
     "metadata": {},
     "output_type": "execute_result"
    }
   ],
   "source": [
    "df"
   ]
  },
  {
   "cell_type": "code",
   "execution_count": 20,
   "metadata": {},
   "outputs": [
    {
     "name": "stdout",
     "output_type": "stream",
     "text": [
      "user_id  cohort_id\n",
      "1        8.0          1617\n",
      "         28.0         4823\n",
      "2        22.0         1541\n",
      "3        22.0         1562\n",
      "4        22.0          692\n",
      "                      ... \n",
      "783      59.0           54\n",
      "784      61.0           93\n",
      "785      59.0           31\n",
      "786      56.0            7\n",
      "787      55.0            1\n",
      "Length: 748, dtype: int64\n"
     ]
    }
   ],
   "source": [
    "print(df.groupby(['user_id', 'cohort_id']).size())"
   ]
  },
  {
   "cell_type": "markdown",
   "metadata": {},
   "source": [
    "## Isolating my own user ID"
   ]
  },
  {
   "cell_type": "code",
   "execution_count": 21,
   "metadata": {},
   "outputs": [
    {
     "name": "stdout",
     "output_type": "stream",
     "text": [
      "<class 'pandas.core.frame.DataFrame'>\n",
      "DatetimeIndex: 719459 entries, 2018-01-26 09:55:03 to 2020-11-02 16:48:47\n",
      "Data columns (total 9 columns):\n",
      " #   Column     Non-Null Count   Dtype  \n",
      "---  ------     --------------   -----  \n",
      " 0   web_page   719458 non-null  object \n",
      " 1   user_id    719459 non-null  int64  \n",
      " 2   cohort_id  674619 non-null  float64\n",
      " 3   ip         719459 non-null  object \n",
      " 4   year       719459 non-null  int64  \n",
      " 5   month      719459 non-null  int64  \n",
      " 6   day        719459 non-null  int64  \n",
      " 7   weekday    719459 non-null  object \n",
      " 8   hour       719459 non-null  int64  \n",
      "dtypes: float64(1), int64(5), object(3)\n",
      "memory usage: 54.9+ MB\n"
     ]
    }
   ],
   "source": [
    "my_ip = '96.8.130.213'\n",
    "\n",
    "df.info()"
   ]
  },
  {
   "cell_type": "code",
   "execution_count": 22,
   "metadata": {},
   "outputs": [
    {
     "data": {
      "text/plain": [
       "False    719248\n",
       "True        211\n",
       "Name: ip, dtype: int64"
      ]
     },
     "execution_count": 22,
     "metadata": {},
     "output_type": "execute_result"
    }
   ],
   "source": [
    "(df.ip == my_ip).value_counts()"
   ]
  },
  {
   "cell_type": "code",
   "execution_count": 23,
   "metadata": {},
   "outputs": [
    {
     "data": {
      "text/html": [
       "<div>\n",
       "<style scoped>\n",
       "    .dataframe tbody tr th:only-of-type {\n",
       "        vertical-align: middle;\n",
       "    }\n",
       "\n",
       "    .dataframe tbody tr th {\n",
       "        vertical-align: top;\n",
       "    }\n",
       "\n",
       "    .dataframe thead th {\n",
       "        text-align: right;\n",
       "    }\n",
       "</style>\n",
       "<table border=\"1\" class=\"dataframe\">\n",
       "  <thead>\n",
       "    <tr style=\"text-align: right;\">\n",
       "      <th></th>\n",
       "      <th>web_page</th>\n",
       "      <th>user_id</th>\n",
       "      <th>cohort_id</th>\n",
       "      <th>ip</th>\n",
       "      <th>year</th>\n",
       "      <th>month</th>\n",
       "      <th>day</th>\n",
       "      <th>weekday</th>\n",
       "      <th>hour</th>\n",
       "    </tr>\n",
       "    <tr>\n",
       "      <th>date_time</th>\n",
       "      <th></th>\n",
       "      <th></th>\n",
       "      <th></th>\n",
       "      <th></th>\n",
       "      <th></th>\n",
       "      <th></th>\n",
       "      <th></th>\n",
       "      <th></th>\n",
       "      <th></th>\n",
       "    </tr>\n",
       "  </thead>\n",
       "  <tbody>\n",
       "    <tr>\n",
       "      <th>2020-10-06 09:42:04</th>\n",
       "      <td>timeseries/project</td>\n",
       "      <td>692</td>\n",
       "      <td>59.0</td>\n",
       "      <td>96.8.130.213</td>\n",
       "      <td>2020</td>\n",
       "      <td>10</td>\n",
       "      <td>10</td>\n",
       "      <td>Tuesday</td>\n",
       "      <td>9</td>\n",
       "    </tr>\n",
       "    <tr>\n",
       "      <th>2020-10-06 09:42:21</th>\n",
       "      <td>clustering/project</td>\n",
       "      <td>692</td>\n",
       "      <td>59.0</td>\n",
       "      <td>96.8.130.213</td>\n",
       "      <td>2020</td>\n",
       "      <td>10</td>\n",
       "      <td>10</td>\n",
       "      <td>Tuesday</td>\n",
       "      <td>9</td>\n",
       "    </tr>\n",
       "    <tr>\n",
       "      <th>2020-10-06 09:42:27</th>\n",
       "      <td>timeseries/project</td>\n",
       "      <td>692</td>\n",
       "      <td>59.0</td>\n",
       "      <td>96.8.130.213</td>\n",
       "      <td>2020</td>\n",
       "      <td>10</td>\n",
       "      <td>10</td>\n",
       "      <td>Tuesday</td>\n",
       "      <td>9</td>\n",
       "    </tr>\n",
       "    <tr>\n",
       "      <th>2020-10-06 12:53:17</th>\n",
       "      <td>regression/model</td>\n",
       "      <td>692</td>\n",
       "      <td>59.0</td>\n",
       "      <td>96.8.130.213</td>\n",
       "      <td>2020</td>\n",
       "      <td>10</td>\n",
       "      <td>10</td>\n",
       "      <td>Tuesday</td>\n",
       "      <td>12</td>\n",
       "    </tr>\n",
       "    <tr>\n",
       "      <th>2020-10-06 15:13:50</th>\n",
       "      <td>sql/mysql-overview</td>\n",
       "      <td>692</td>\n",
       "      <td>59.0</td>\n",
       "      <td>96.8.130.213</td>\n",
       "      <td>2020</td>\n",
       "      <td>10</td>\n",
       "      <td>10</td>\n",
       "      <td>Tuesday</td>\n",
       "      <td>15</td>\n",
       "    </tr>\n",
       "    <tr>\n",
       "      <th>...</th>\n",
       "      <td>...</td>\n",
       "      <td>...</td>\n",
       "      <td>...</td>\n",
       "      <td>...</td>\n",
       "      <td>...</td>\n",
       "      <td>...</td>\n",
       "      <td>...</td>\n",
       "      <td>...</td>\n",
       "      <td>...</td>\n",
       "    </tr>\n",
       "    <tr>\n",
       "      <th>2020-10-29 14:39:19</th>\n",
       "      <td>timeseries/working-with-time-series-data</td>\n",
       "      <td>692</td>\n",
       "      <td>59.0</td>\n",
       "      <td>96.8.130.213</td>\n",
       "      <td>2020</td>\n",
       "      <td>10</td>\n",
       "      <td>10</td>\n",
       "      <td>Thursday</td>\n",
       "      <td>14</td>\n",
       "    </tr>\n",
       "    <tr>\n",
       "      <th>2020-10-30 09:45:51</th>\n",
       "      <td>timeseries/modeling-lesson1</td>\n",
       "      <td>692</td>\n",
       "      <td>59.0</td>\n",
       "      <td>96.8.130.213</td>\n",
       "      <td>2020</td>\n",
       "      <td>10</td>\n",
       "      <td>10</td>\n",
       "      <td>Friday</td>\n",
       "      <td>9</td>\n",
       "    </tr>\n",
       "    <tr>\n",
       "      <th>2020-10-30 17:01:12</th>\n",
       "      <td>timeseries/explore</td>\n",
       "      <td>692</td>\n",
       "      <td>59.0</td>\n",
       "      <td>96.8.130.213</td>\n",
       "      <td>2020</td>\n",
       "      <td>10</td>\n",
       "      <td>10</td>\n",
       "      <td>Friday</td>\n",
       "      <td>17</td>\n",
       "    </tr>\n",
       "    <tr>\n",
       "      <th>2020-11-02 10:19:14</th>\n",
       "      <td>timeseries/prep</td>\n",
       "      <td>692</td>\n",
       "      <td>59.0</td>\n",
       "      <td>96.8.130.213</td>\n",
       "      <td>2020</td>\n",
       "      <td>11</td>\n",
       "      <td>11</td>\n",
       "      <td>Monday</td>\n",
       "      <td>10</td>\n",
       "    </tr>\n",
       "    <tr>\n",
       "      <th>2020-11-02 10:19:25</th>\n",
       "      <td>timeseries/working-with-time-series-data</td>\n",
       "      <td>692</td>\n",
       "      <td>59.0</td>\n",
       "      <td>96.8.130.213</td>\n",
       "      <td>2020</td>\n",
       "      <td>11</td>\n",
       "      <td>11</td>\n",
       "      <td>Monday</td>\n",
       "      <td>10</td>\n",
       "    </tr>\n",
       "  </tbody>\n",
       "</table>\n",
       "<p>211 rows × 9 columns</p>\n",
       "</div>"
      ],
      "text/plain": [
       "                                                     web_page  user_id  \\\n",
       "date_time                                                                \n",
       "2020-10-06 09:42:04                        timeseries/project      692   \n",
       "2020-10-06 09:42:21                        clustering/project      692   \n",
       "2020-10-06 09:42:27                        timeseries/project      692   \n",
       "2020-10-06 12:53:17                          regression/model      692   \n",
       "2020-10-06 15:13:50                        sql/mysql-overview      692   \n",
       "...                                                       ...      ...   \n",
       "2020-10-29 14:39:19  timeseries/working-with-time-series-data      692   \n",
       "2020-10-30 09:45:51               timeseries/modeling-lesson1      692   \n",
       "2020-10-30 17:01:12                        timeseries/explore      692   \n",
       "2020-11-02 10:19:14                           timeseries/prep      692   \n",
       "2020-11-02 10:19:25  timeseries/working-with-time-series-data      692   \n",
       "\n",
       "                     cohort_id            ip  year  month  day   weekday  hour  \n",
       "date_time                                                                       \n",
       "2020-10-06 09:42:04       59.0  96.8.130.213  2020     10   10   Tuesday     9  \n",
       "2020-10-06 09:42:21       59.0  96.8.130.213  2020     10   10   Tuesday     9  \n",
       "2020-10-06 09:42:27       59.0  96.8.130.213  2020     10   10   Tuesday     9  \n",
       "2020-10-06 12:53:17       59.0  96.8.130.213  2020     10   10   Tuesday    12  \n",
       "2020-10-06 15:13:50       59.0  96.8.130.213  2020     10   10   Tuesday    15  \n",
       "...                        ...           ...   ...    ...  ...       ...   ...  \n",
       "2020-10-29 14:39:19       59.0  96.8.130.213  2020     10   10  Thursday    14  \n",
       "2020-10-30 09:45:51       59.0  96.8.130.213  2020     10   10    Friday     9  \n",
       "2020-10-30 17:01:12       59.0  96.8.130.213  2020     10   10    Friday    17  \n",
       "2020-11-02 10:19:14       59.0  96.8.130.213  2020     11   11    Monday    10  \n",
       "2020-11-02 10:19:25       59.0  96.8.130.213  2020     11   11    Monday    10  \n",
       "\n",
       "[211 rows x 9 columns]"
      ]
     },
     "execution_count": 23,
     "metadata": {},
     "output_type": "execute_result"
    }
   ],
   "source": [
    "# (darden['2020-11-02']['web_page'] == 'python/advanced-dataframes').count()\n",
    "\n",
    "df[df.ip == my_ip]"
   ]
  },
  {
   "cell_type": "code",
   "execution_count": 24,
   "metadata": {},
   "outputs": [
    {
     "data": {
      "text/plain": [
       "Timestamp('2020-07-13 14:45:01')"
      ]
     },
     "execution_count": 24,
     "metadata": {},
     "output_type": "execute_result"
    }
   ],
   "source": [
    "df[df.user_id == 692].index.min()"
   ]
  },
  {
   "cell_type": "code",
   "execution_count": 25,
   "metadata": {},
   "outputs": [
    {
     "data": {
      "text/plain": [
       "Timestamp('2020-11-02 10:19:25')"
      ]
     },
     "execution_count": 25,
     "metadata": {},
     "output_type": "execute_result"
    }
   ],
   "source": [
    "df[df.user_id == 692].index.max()"
   ]
  },
  {
   "cell_type": "code",
   "execution_count": 26,
   "metadata": {},
   "outputs": [],
   "source": [
    "my_pings = df[df.user_id == 692]"
   ]
  },
  {
   "cell_type": "code",
   "execution_count": 27,
   "metadata": {},
   "outputs": [
    {
     "data": {
      "text/html": [
       "<div>\n",
       "<style scoped>\n",
       "    .dataframe tbody tr th:only-of-type {\n",
       "        vertical-align: middle;\n",
       "    }\n",
       "\n",
       "    .dataframe tbody tr th {\n",
       "        vertical-align: top;\n",
       "    }\n",
       "\n",
       "    .dataframe thead th {\n",
       "        text-align: right;\n",
       "    }\n",
       "</style>\n",
       "<table border=\"1\" class=\"dataframe\">\n",
       "  <thead>\n",
       "    <tr style=\"text-align: right;\">\n",
       "      <th></th>\n",
       "      <th>web_page</th>\n",
       "      <th>user_id</th>\n",
       "      <th>cohort_id</th>\n",
       "      <th>ip</th>\n",
       "      <th>year</th>\n",
       "      <th>month</th>\n",
       "      <th>day</th>\n",
       "      <th>weekday</th>\n",
       "      <th>hour</th>\n",
       "    </tr>\n",
       "    <tr>\n",
       "      <th>date_time</th>\n",
       "      <th></th>\n",
       "      <th></th>\n",
       "      <th></th>\n",
       "      <th></th>\n",
       "      <th></th>\n",
       "      <th></th>\n",
       "      <th></th>\n",
       "      <th></th>\n",
       "      <th></th>\n",
       "    </tr>\n",
       "  </thead>\n",
       "  <tbody>\n",
       "    <tr>\n",
       "      <th>2020-11-02 10:19:14</th>\n",
       "      <td>timeseries/prep</td>\n",
       "      <td>692</td>\n",
       "      <td>59.0</td>\n",
       "      <td>96.8.130.213</td>\n",
       "      <td>2020</td>\n",
       "      <td>11</td>\n",
       "      <td>11</td>\n",
       "      <td>Monday</td>\n",
       "      <td>10</td>\n",
       "    </tr>\n",
       "    <tr>\n",
       "      <th>2020-11-02 10:19:25</th>\n",
       "      <td>timeseries/working-with-time-series-data</td>\n",
       "      <td>692</td>\n",
       "      <td>59.0</td>\n",
       "      <td>96.8.130.213</td>\n",
       "      <td>2020</td>\n",
       "      <td>11</td>\n",
       "      <td>11</td>\n",
       "      <td>Monday</td>\n",
       "      <td>10</td>\n",
       "    </tr>\n",
       "  </tbody>\n",
       "</table>\n",
       "</div>"
      ],
      "text/plain": [
       "                                                     web_page  user_id  \\\n",
       "date_time                                                                \n",
       "2020-11-02 10:19:14                           timeseries/prep      692   \n",
       "2020-11-02 10:19:25  timeseries/working-with-time-series-data      692   \n",
       "\n",
       "                     cohort_id            ip  year  month  day weekday  hour  \n",
       "date_time                                                                     \n",
       "2020-11-02 10:19:14       59.0  96.8.130.213  2020     11   11  Monday    10  \n",
       "2020-11-02 10:19:25       59.0  96.8.130.213  2020     11   11  Monday    10  "
      ]
     },
     "execution_count": 27,
     "metadata": {},
     "output_type": "execute_result"
    }
   ],
   "source": [
    "my_pings['2020-11-02']"
   ]
  },
  {
   "cell_type": "code",
   "execution_count": 28,
   "metadata": {},
   "outputs": [],
   "source": [
    "# Ok, so now I've found my ip address, my cohort, and my user id.\n",
    "# user id = 692"
   ]
  },
  {
   "cell_type": "code",
   "execution_count": 29,
   "metadata": {},
   "outputs": [
    {
     "data": {
      "text/plain": [
       "web_page     0\n",
       "user_id      0\n",
       "cohort_id    0\n",
       "ip           0\n",
       "year         0\n",
       "month        0\n",
       "day          0\n",
       "weekday      0\n",
       "hour         0\n",
       "dtype: int64"
      ]
     },
     "execution_count": 29,
     "metadata": {},
     "output_type": "execute_result"
    }
   ],
   "source": [
    "# Checking for any null values in the df:\n",
    "my_pings.isnull().sum()"
   ]
  },
  {
   "cell_type": "code",
   "execution_count": 30,
   "metadata": {},
   "outputs": [
    {
     "data": {
      "text/plain": [
       "date_time\n",
       "2020-07-13      4\n",
       "2020-07-14    112\n",
       "2020-07-15      9\n",
       "2020-07-16     53\n",
       "2020-07-17     12\n",
       "             ... \n",
       "2020-10-29      4\n",
       "2020-10-30      2\n",
       "2020-10-31      0\n",
       "2020-11-01      0\n",
       "2020-11-02      2\n",
       "Freq: D, Length: 113, dtype: int64"
      ]
     },
     "execution_count": 30,
     "metadata": {},
     "output_type": "execute_result"
    }
   ],
   "source": [
    "my_pings.resample(\"D\").size()"
   ]
  },
  {
   "cell_type": "code",
   "execution_count": 31,
   "metadata": {},
   "outputs": [],
   "source": [
    "my_pings = pd.DataFrame(my_pings.groupby(['web_page', 'cohort_id']).resample(\"D\").size())"
   ]
  },
  {
   "cell_type": "code",
   "execution_count": 32,
   "metadata": {},
   "outputs": [
    {
     "data": {
      "text/html": [
       "<div>\n",
       "<style scoped>\n",
       "    .dataframe tbody tr th:only-of-type {\n",
       "        vertical-align: middle;\n",
       "    }\n",
       "\n",
       "    .dataframe tbody tr th {\n",
       "        vertical-align: top;\n",
       "    }\n",
       "\n",
       "    .dataframe thead th {\n",
       "        text-align: right;\n",
       "    }\n",
       "</style>\n",
       "<table border=\"1\" class=\"dataframe\">\n",
       "  <thead>\n",
       "    <tr style=\"text-align: right;\">\n",
       "      <th></th>\n",
       "      <th></th>\n",
       "      <th></th>\n",
       "      <th>0</th>\n",
       "    </tr>\n",
       "    <tr>\n",
       "      <th>web_page</th>\n",
       "      <th>cohort_id</th>\n",
       "      <th>date_time</th>\n",
       "      <th></th>\n",
       "    </tr>\n",
       "  </thead>\n",
       "  <tbody>\n",
       "    <tr>\n",
       "      <th rowspan=\"5\" valign=\"top\">/</th>\n",
       "      <th rowspan=\"5\" valign=\"top\">59.0</th>\n",
       "      <th>2020-07-13</th>\n",
       "      <td>1</td>\n",
       "    </tr>\n",
       "    <tr>\n",
       "      <th>2020-07-14</th>\n",
       "      <td>2</td>\n",
       "    </tr>\n",
       "    <tr>\n",
       "      <th>2020-07-15</th>\n",
       "      <td>0</td>\n",
       "    </tr>\n",
       "    <tr>\n",
       "      <th>2020-07-16</th>\n",
       "      <td>1</td>\n",
       "    </tr>\n",
       "    <tr>\n",
       "      <th>2020-07-17</th>\n",
       "      <td>1</td>\n",
       "    </tr>\n",
       "    <tr>\n",
       "      <th>...</th>\n",
       "      <th>...</th>\n",
       "      <th>...</th>\n",
       "      <td>...</td>\n",
       "    </tr>\n",
       "    <tr>\n",
       "      <th rowspan=\"4\" valign=\"top\">timeseries/working-with-time-series-data</th>\n",
       "      <th rowspan=\"4\" valign=\"top\">59.0</th>\n",
       "      <th>2020-10-30</th>\n",
       "      <td>0</td>\n",
       "    </tr>\n",
       "    <tr>\n",
       "      <th>2020-10-31</th>\n",
       "      <td>0</td>\n",
       "    </tr>\n",
       "    <tr>\n",
       "      <th>2020-11-01</th>\n",
       "      <td>0</td>\n",
       "    </tr>\n",
       "    <tr>\n",
       "      <th>2020-11-02</th>\n",
       "      <td>1</td>\n",
       "    </tr>\n",
       "    <tr>\n",
       "      <th>working-with-time-series-data</th>\n",
       "      <th>59.0</th>\n",
       "      <th>2020-10-24</th>\n",
       "      <td>2</td>\n",
       "    </tr>\n",
       "  </tbody>\n",
       "</table>\n",
       "<p>3003 rows × 1 columns</p>\n",
       "</div>"
      ],
      "text/plain": [
       "                                                               0\n",
       "web_page                                 cohort_id date_time    \n",
       "/                                        59.0      2020-07-13  1\n",
       "                                                   2020-07-14  2\n",
       "                                                   2020-07-15  0\n",
       "                                                   2020-07-16  1\n",
       "                                                   2020-07-17  1\n",
       "...                                                           ..\n",
       "timeseries/working-with-time-series-data 59.0      2020-10-30  0\n",
       "                                                   2020-10-31  0\n",
       "                                                   2020-11-01  0\n",
       "                                                   2020-11-02  1\n",
       "working-with-time-series-data            59.0      2020-10-24  2\n",
       "\n",
       "[3003 rows x 1 columns]"
      ]
     },
     "execution_count": 32,
     "metadata": {},
     "output_type": "execute_result"
    }
   ],
   "source": [
    "my_pings"
   ]
  },
  {
   "cell_type": "code",
   "execution_count": 33,
   "metadata": {},
   "outputs": [
    {
     "data": {
      "text/html": [
       "<div>\n",
       "<style scoped>\n",
       "    .dataframe tbody tr th:only-of-type {\n",
       "        vertical-align: middle;\n",
       "    }\n",
       "\n",
       "    .dataframe tbody tr th {\n",
       "        vertical-align: top;\n",
       "    }\n",
       "\n",
       "    .dataframe thead th {\n",
       "        text-align: right;\n",
       "    }\n",
       "</style>\n",
       "<table border=\"1\" class=\"dataframe\">\n",
       "  <thead>\n",
       "    <tr style=\"text-align: right;\">\n",
       "      <th></th>\n",
       "      <th>web_page</th>\n",
       "      <th>cohort_id</th>\n",
       "      <th>0</th>\n",
       "    </tr>\n",
       "    <tr>\n",
       "      <th>date_time</th>\n",
       "      <th></th>\n",
       "      <th></th>\n",
       "      <th></th>\n",
       "    </tr>\n",
       "  </thead>\n",
       "  <tbody>\n",
       "    <tr>\n",
       "      <th>2020-07-13</th>\n",
       "      <td>/</td>\n",
       "      <td>59.0</td>\n",
       "      <td>1</td>\n",
       "    </tr>\n",
       "    <tr>\n",
       "      <th>2020-07-14</th>\n",
       "      <td>/</td>\n",
       "      <td>59.0</td>\n",
       "      <td>2</td>\n",
       "    </tr>\n",
       "    <tr>\n",
       "      <th>2020-07-15</th>\n",
       "      <td>/</td>\n",
       "      <td>59.0</td>\n",
       "      <td>0</td>\n",
       "    </tr>\n",
       "    <tr>\n",
       "      <th>2020-07-16</th>\n",
       "      <td>/</td>\n",
       "      <td>59.0</td>\n",
       "      <td>1</td>\n",
       "    </tr>\n",
       "    <tr>\n",
       "      <th>2020-07-17</th>\n",
       "      <td>/</td>\n",
       "      <td>59.0</td>\n",
       "      <td>1</td>\n",
       "    </tr>\n",
       "    <tr>\n",
       "      <th>...</th>\n",
       "      <td>...</td>\n",
       "      <td>...</td>\n",
       "      <td>...</td>\n",
       "    </tr>\n",
       "    <tr>\n",
       "      <th>2020-10-30</th>\n",
       "      <td>timeseries/working-with-time-series-data</td>\n",
       "      <td>59.0</td>\n",
       "      <td>0</td>\n",
       "    </tr>\n",
       "    <tr>\n",
       "      <th>2020-10-31</th>\n",
       "      <td>timeseries/working-with-time-series-data</td>\n",
       "      <td>59.0</td>\n",
       "      <td>0</td>\n",
       "    </tr>\n",
       "    <tr>\n",
       "      <th>2020-11-01</th>\n",
       "      <td>timeseries/working-with-time-series-data</td>\n",
       "      <td>59.0</td>\n",
       "      <td>0</td>\n",
       "    </tr>\n",
       "    <tr>\n",
       "      <th>2020-11-02</th>\n",
       "      <td>timeseries/working-with-time-series-data</td>\n",
       "      <td>59.0</td>\n",
       "      <td>1</td>\n",
       "    </tr>\n",
       "    <tr>\n",
       "      <th>2020-10-24</th>\n",
       "      <td>working-with-time-series-data</td>\n",
       "      <td>59.0</td>\n",
       "      <td>2</td>\n",
       "    </tr>\n",
       "  </tbody>\n",
       "</table>\n",
       "<p>3003 rows × 3 columns</p>\n",
       "</div>"
      ],
      "text/plain": [
       "                                            web_page  cohort_id  0\n",
       "date_time                                                         \n",
       "2020-07-13                                         /       59.0  1\n",
       "2020-07-14                                         /       59.0  2\n",
       "2020-07-15                                         /       59.0  0\n",
       "2020-07-16                                         /       59.0  1\n",
       "2020-07-17                                         /       59.0  1\n",
       "...                                              ...        ... ..\n",
       "2020-10-30  timeseries/working-with-time-series-data       59.0  0\n",
       "2020-10-31  timeseries/working-with-time-series-data       59.0  0\n",
       "2020-11-01  timeseries/working-with-time-series-data       59.0  0\n",
       "2020-11-02  timeseries/working-with-time-series-data       59.0  1\n",
       "2020-10-24             working-with-time-series-data       59.0  2\n",
       "\n",
       "[3003 rows x 3 columns]"
      ]
     },
     "execution_count": 33,
     "metadata": {},
     "output_type": "execute_result"
    }
   ],
   "source": [
    "my_pings = my_pings.reset_index().set_index(\"date_time\")\n",
    "my_pings"
   ]
  },
  {
   "cell_type": "code",
   "execution_count": 34,
   "metadata": {},
   "outputs": [
    {
     "data": {
      "text/html": [
       "<div>\n",
       "<style scoped>\n",
       "    .dataframe tbody tr th:only-of-type {\n",
       "        vertical-align: middle;\n",
       "    }\n",
       "\n",
       "    .dataframe tbody tr th {\n",
       "        vertical-align: top;\n",
       "    }\n",
       "\n",
       "    .dataframe thead th {\n",
       "        text-align: right;\n",
       "    }\n",
       "</style>\n",
       "<table border=\"1\" class=\"dataframe\">\n",
       "  <thead>\n",
       "    <tr style=\"text-align: right;\">\n",
       "      <th></th>\n",
       "      <th>web_page</th>\n",
       "      <th>cohort_id</th>\n",
       "      <th>hits</th>\n",
       "    </tr>\n",
       "    <tr>\n",
       "      <th>date_time</th>\n",
       "      <th></th>\n",
       "      <th></th>\n",
       "      <th></th>\n",
       "    </tr>\n",
       "  </thead>\n",
       "  <tbody>\n",
       "    <tr>\n",
       "      <th>2020-07-13</th>\n",
       "      <td>/</td>\n",
       "      <td>59.0</td>\n",
       "      <td>1</td>\n",
       "    </tr>\n",
       "    <tr>\n",
       "      <th>2020-07-14</th>\n",
       "      <td>/</td>\n",
       "      <td>59.0</td>\n",
       "      <td>2</td>\n",
       "    </tr>\n",
       "    <tr>\n",
       "      <th>2020-07-15</th>\n",
       "      <td>/</td>\n",
       "      <td>59.0</td>\n",
       "      <td>0</td>\n",
       "    </tr>\n",
       "    <tr>\n",
       "      <th>2020-07-16</th>\n",
       "      <td>/</td>\n",
       "      <td>59.0</td>\n",
       "      <td>1</td>\n",
       "    </tr>\n",
       "    <tr>\n",
       "      <th>2020-07-17</th>\n",
       "      <td>/</td>\n",
       "      <td>59.0</td>\n",
       "      <td>1</td>\n",
       "    </tr>\n",
       "    <tr>\n",
       "      <th>...</th>\n",
       "      <td>...</td>\n",
       "      <td>...</td>\n",
       "      <td>...</td>\n",
       "    </tr>\n",
       "    <tr>\n",
       "      <th>2020-10-30</th>\n",
       "      <td>timeseries/working-with-time-series-data</td>\n",
       "      <td>59.0</td>\n",
       "      <td>0</td>\n",
       "    </tr>\n",
       "    <tr>\n",
       "      <th>2020-10-31</th>\n",
       "      <td>timeseries/working-with-time-series-data</td>\n",
       "      <td>59.0</td>\n",
       "      <td>0</td>\n",
       "    </tr>\n",
       "    <tr>\n",
       "      <th>2020-11-01</th>\n",
       "      <td>timeseries/working-with-time-series-data</td>\n",
       "      <td>59.0</td>\n",
       "      <td>0</td>\n",
       "    </tr>\n",
       "    <tr>\n",
       "      <th>2020-11-02</th>\n",
       "      <td>timeseries/working-with-time-series-data</td>\n",
       "      <td>59.0</td>\n",
       "      <td>1</td>\n",
       "    </tr>\n",
       "    <tr>\n",
       "      <th>2020-10-24</th>\n",
       "      <td>working-with-time-series-data</td>\n",
       "      <td>59.0</td>\n",
       "      <td>2</td>\n",
       "    </tr>\n",
       "  </tbody>\n",
       "</table>\n",
       "<p>3003 rows × 3 columns</p>\n",
       "</div>"
      ],
      "text/plain": [
       "                                            web_page  cohort_id  hits\n",
       "date_time                                                            \n",
       "2020-07-13                                         /       59.0     1\n",
       "2020-07-14                                         /       59.0     2\n",
       "2020-07-15                                         /       59.0     0\n",
       "2020-07-16                                         /       59.0     1\n",
       "2020-07-17                                         /       59.0     1\n",
       "...                                              ...        ...   ...\n",
       "2020-10-30  timeseries/working-with-time-series-data       59.0     0\n",
       "2020-10-31  timeseries/working-with-time-series-data       59.0     0\n",
       "2020-11-01  timeseries/working-with-time-series-data       59.0     0\n",
       "2020-11-02  timeseries/working-with-time-series-data       59.0     1\n",
       "2020-10-24             working-with-time-series-data       59.0     2\n",
       "\n",
       "[3003 rows x 3 columns]"
      ]
     },
     "execution_count": 34,
     "metadata": {},
     "output_type": "execute_result"
    }
   ],
   "source": [
    "my_pings.rename(columns = {0:'hits'}, inplace = True)\n",
    "my_pings"
   ]
  },
  {
   "cell_type": "code",
   "execution_count": 35,
   "metadata": {},
   "outputs": [
    {
     "data": {
      "text/html": [
       "<div>\n",
       "<style scoped>\n",
       "    .dataframe tbody tr th:only-of-type {\n",
       "        vertical-align: middle;\n",
       "    }\n",
       "\n",
       "    .dataframe tbody tr th {\n",
       "        vertical-align: top;\n",
       "    }\n",
       "\n",
       "    .dataframe thead th {\n",
       "        text-align: right;\n",
       "    }\n",
       "</style>\n",
       "<table border=\"1\" class=\"dataframe\">\n",
       "  <thead>\n",
       "    <tr style=\"text-align: right;\">\n",
       "      <th></th>\n",
       "      <th>hits</th>\n",
       "    </tr>\n",
       "    <tr>\n",
       "      <th>date_time</th>\n",
       "      <th></th>\n",
       "    </tr>\n",
       "  </thead>\n",
       "  <tbody>\n",
       "    <tr>\n",
       "      <th>2020-07-13</th>\n",
       "      <td>1</td>\n",
       "    </tr>\n",
       "    <tr>\n",
       "      <th>2020-07-14</th>\n",
       "      <td>2</td>\n",
       "    </tr>\n",
       "    <tr>\n",
       "      <th>2020-07-15</th>\n",
       "      <td>0</td>\n",
       "    </tr>\n",
       "    <tr>\n",
       "      <th>2020-07-16</th>\n",
       "      <td>1</td>\n",
       "    </tr>\n",
       "    <tr>\n",
       "      <th>2020-07-17</th>\n",
       "      <td>1</td>\n",
       "    </tr>\n",
       "    <tr>\n",
       "      <th>...</th>\n",
       "      <td>...</td>\n",
       "    </tr>\n",
       "    <tr>\n",
       "      <th>2020-10-30</th>\n",
       "      <td>0</td>\n",
       "    </tr>\n",
       "    <tr>\n",
       "      <th>2020-10-31</th>\n",
       "      <td>0</td>\n",
       "    </tr>\n",
       "    <tr>\n",
       "      <th>2020-11-01</th>\n",
       "      <td>0</td>\n",
       "    </tr>\n",
       "    <tr>\n",
       "      <th>2020-11-02</th>\n",
       "      <td>1</td>\n",
       "    </tr>\n",
       "    <tr>\n",
       "      <th>2020-10-24</th>\n",
       "      <td>2</td>\n",
       "    </tr>\n",
       "  </tbody>\n",
       "</table>\n",
       "<p>3003 rows × 1 columns</p>\n",
       "</div>"
      ],
      "text/plain": [
       "            hits\n",
       "date_time       \n",
       "2020-07-13     1\n",
       "2020-07-14     2\n",
       "2020-07-15     0\n",
       "2020-07-16     1\n",
       "2020-07-17     1\n",
       "...          ...\n",
       "2020-10-30     0\n",
       "2020-10-31     0\n",
       "2020-11-01     0\n",
       "2020-11-02     1\n",
       "2020-10-24     2\n",
       "\n",
       "[3003 rows x 1 columns]"
      ]
     },
     "execution_count": 35,
     "metadata": {},
     "output_type": "execute_result"
    }
   ],
   "source": [
    "# Reduce my Df down to daily, .sum() only using date_time and hits.\n",
    "my_hits = my_pings.copy()\n",
    "my_hits.drop(columns = ['web_page', 'cohort_id'], inplace = True)\n",
    "my_hits"
   ]
  },
  {
   "cell_type": "code",
   "execution_count": 36,
   "metadata": {},
   "outputs": [],
   "source": [
    "my_hits = my_hits.resample(\"D\").sum()"
   ]
  },
  {
   "cell_type": "code",
   "execution_count": 37,
   "metadata": {},
   "outputs": [
    {
     "data": {
      "text/plain": [
       "<AxesSubplot:xlabel='date_time'>"
      ]
     },
     "execution_count": 37,
     "metadata": {},
     "output_type": "execute_result"
    },
    {
     "data": {
      "image/png": "[encoded data removed]",
      "text/plain": [
       "<Figure size 864x648 with 1 Axes>"
      ]
     },
     "metadata": {
      "needs_background": "light"
     },
     "output_type": "display_data"
    }
   ],
   "source": [
    "my_hits.plot(figsize = (12, 9))"
   ]
  },
  {
   "cell_type": "markdown",
   "metadata": {},
   "source": [
    "### SMA"
   ]
  },
  {
   "cell_type": "code",
   "execution_count": 38,
   "metadata": {},
   "outputs": [
    {
     "data": {
      "text/plain": [
       "<AxesSubplot:xlabel='date_time'>"
      ]
     },
     "execution_count": 38,
     "metadata": {},
     "output_type": "execute_result"
    },
    {
     "data": {
      "image/png": "[encoded data removed]",
      "text/plain": [
       "<Figure size 432x288 with 1 Axes>"
      ]
     },
     "metadata": {
      "needs_background": "light"
     },
     "output_type": "display_data"
    }
   ],
   "source": [
    "short_sma = my_hits.rolling(window = 7).mean()\n",
    "short_sma.plot()"
   ]
  },
  {
   "cell_type": "code",
   "execution_count": 39,
   "metadata": {},
   "outputs": [
    {
     "data": {
      "text/plain": [
       "<AxesSubplot:xlabel='date_time'>"
      ]
     },
     "execution_count": 39,
     "metadata": {},
     "output_type": "execute_result"
    },
    {
     "data": {
      "image/png": "[encoded data removed]",
      "text/plain": [
       "<Figure size 432x288 with 1 Axes>"
      ]
     },
     "metadata": {
      "needs_background": "light"
     },
     "output_type": "display_data"
    }
   ],
   "source": [
    "short_ema = my_hits.ewm(span = 7).mean()\n",
    "short_ema.plot()"
   ]
  },
  {
   "cell_type": "code",
   "execution_count": 40,
   "metadata": {
    "scrolled": false
   },
   "outputs": [
    {
     "data": {
      "image/png": "[encoded data removed]",
      "text/plain": [
       "<Figure size 936x648 with 1 Axes>"
      ]
     },
     "metadata": {
      "needs_background": "light"
     },
     "output_type": "display_data"
    }
   ],
   "source": [
    "# Plotting user 692's ping count and the 7-day SMA and EMA:\n",
    "\n",
    "fig, ax = plt.subplots(figsize = (13, 9))\n",
    "\n",
    "ax.plot(my_hits.index, my_hits, label = 'Pings')\n",
    "\n",
    "ax.plot(my_hits.index, short_sma, label = '7 day SMA')\n",
    "\n",
    "ax.plot(my_hits.index, short_ema, label = '7 day EMA')\n",
    "\n",
    "ax.legend(loc = 'best')\n",
    "ax.set_ylabel(\"Pings to Server\")\n",
    "plt.show()"
   ]
  },
  {
   "cell_type": "markdown",
   "metadata": {},
   "source": [
    "### Creating the Bollinger Bands:"
   ]
  },
  {
   "cell_type": "code",
   "execution_count": 41,
   "metadata": {},
   "outputs": [
    {
     "data": {
      "text/html": [
       "<div>\n",
       "<style scoped>\n",
       "    .dataframe tbody tr th:only-of-type {\n",
       "        vertical-align: middle;\n",
       "    }\n",
       "\n",
       "    .dataframe tbody tr th {\n",
       "        vertical-align: top;\n",
       "    }\n",
       "\n",
       "    .dataframe thead th {\n",
       "        text-align: right;\n",
       "    }\n",
       "</style>\n",
       "<table border=\"1\" class=\"dataframe\">\n",
       "  <thead>\n",
       "    <tr style=\"text-align: right;\">\n",
       "      <th></th>\n",
       "      <th>hits</th>\n",
       "    </tr>\n",
       "    <tr>\n",
       "      <th>date_time</th>\n",
       "      <th></th>\n",
       "    </tr>\n",
       "  </thead>\n",
       "  <tbody>\n",
       "    <tr>\n",
       "      <th>2020-07-13</th>\n",
       "      <td>NaN</td>\n",
       "    </tr>\n",
       "    <tr>\n",
       "      <th>2020-07-14</th>\n",
       "      <td>76.367532</td>\n",
       "    </tr>\n",
       "    <tr>\n",
       "      <th>2020-07-15</th>\n",
       "      <td>60.888078</td>\n",
       "    </tr>\n",
       "    <tr>\n",
       "      <th>2020-07-16</th>\n",
       "      <td>49.215806</td>\n",
       "    </tr>\n",
       "    <tr>\n",
       "      <th>2020-07-17</th>\n",
       "      <td>44.633402</td>\n",
       "    </tr>\n",
       "    <tr>\n",
       "      <th>...</th>\n",
       "      <td>...</td>\n",
       "    </tr>\n",
       "    <tr>\n",
       "      <th>2020-10-29</th>\n",
       "      <td>10.538946</td>\n",
       "    </tr>\n",
       "    <tr>\n",
       "      <th>2020-10-30</th>\n",
       "      <td>10.312936</td>\n",
       "    </tr>\n",
       "    <tr>\n",
       "      <th>2020-10-31</th>\n",
       "      <td>10.166485</td>\n",
       "    </tr>\n",
       "    <tr>\n",
       "      <th>2020-11-01</th>\n",
       "      <td>10.003440</td>\n",
       "    </tr>\n",
       "    <tr>\n",
       "      <th>2020-11-02</th>\n",
       "      <td>9.751897</td>\n",
       "    </tr>\n",
       "  </tbody>\n",
       "</table>\n",
       "<p>113 rows × 1 columns</p>\n",
       "</div>"
      ],
      "text/plain": [
       "                 hits\n",
       "date_time            \n",
       "2020-07-13        NaN\n",
       "2020-07-14  76.367532\n",
       "2020-07-15  60.888078\n",
       "2020-07-16  49.215806\n",
       "2020-07-17  44.633402\n",
       "...               ...\n",
       "2020-10-29  10.538946\n",
       "2020-10-30  10.312936\n",
       "2020-10-31  10.166485\n",
       "2020-11-01  10.003440\n",
       "2020-11-02   9.751897\n",
       "\n",
       "[113 rows x 1 columns]"
      ]
     },
     "execution_count": 41,
     "metadata": {},
     "output_type": "execute_result"
    }
   ],
   "source": [
    "# Setting time interval:\n",
    "span = 30\n",
    "\n",
    "# BBand mid-band:\n",
    "\n",
    "midband = my_hits.ewm(span = span).mean()\n",
    "\n",
    "\n",
    "stdev = my_hits.ewm(span = span).std()\n",
    "stdev"
   ]
  },
  {
   "cell_type": "code",
   "execution_count": 42,
   "metadata": {},
   "outputs": [
    {
     "data": {
      "text/html": [
       "<div>\n",
       "<style scoped>\n",
       "    .dataframe tbody tr th:only-of-type {\n",
       "        vertical-align: middle;\n",
       "    }\n",
       "\n",
       "    .dataframe tbody tr th {\n",
       "        vertical-align: top;\n",
       "    }\n",
       "\n",
       "    .dataframe thead th {\n",
       "        text-align: right;\n",
       "    }\n",
       "</style>\n",
       "<table border=\"1\" class=\"dataframe\">\n",
       "  <thead>\n",
       "    <tr style=\"text-align: right;\">\n",
       "      <th></th>\n",
       "      <th>hits</th>\n",
       "    </tr>\n",
       "    <tr>\n",
       "      <th>date_time</th>\n",
       "      <th></th>\n",
       "    </tr>\n",
       "  </thead>\n",
       "  <tbody>\n",
       "    <tr>\n",
       "      <th>2020-07-13</th>\n",
       "      <td>NaN</td>\n",
       "    </tr>\n",
       "    <tr>\n",
       "      <th>2020-07-14</th>\n",
       "      <td>174.351299</td>\n",
       "    </tr>\n",
       "    <tr>\n",
       "      <th>2020-07-15</th>\n",
       "      <td>133.057774</td>\n",
       "    </tr>\n",
       "    <tr>\n",
       "      <th>2020-07-16</th>\n",
       "      <td>118.655859</td>\n",
       "    </tr>\n",
       "    <tr>\n",
       "      <th>2020-07-17</th>\n",
       "      <td>104.312143</td>\n",
       "    </tr>\n",
       "    <tr>\n",
       "      <th>...</th>\n",
       "      <td>...</td>\n",
       "    </tr>\n",
       "    <tr>\n",
       "      <th>2020-10-29</th>\n",
       "      <td>24.080889</td>\n",
       "    </tr>\n",
       "    <tr>\n",
       "      <th>2020-10-30</th>\n",
       "      <td>23.336936</td>\n",
       "    </tr>\n",
       "    <tr>\n",
       "      <th>2020-10-31</th>\n",
       "      <td>22.609367</td>\n",
       "    </tr>\n",
       "    <tr>\n",
       "      <th>2020-11-01</th>\n",
       "      <td>21.889712</td>\n",
       "    </tr>\n",
       "    <tr>\n",
       "      <th>2020-11-02</th>\n",
       "      <td>21.197097</td>\n",
       "    </tr>\n",
       "  </tbody>\n",
       "</table>\n",
       "<p>113 rows × 1 columns</p>\n",
       "</div>"
      ],
      "text/plain": [
       "                  hits\n",
       "date_time             \n",
       "2020-07-13         NaN\n",
       "2020-07-14  174.351299\n",
       "2020-07-15  133.057774\n",
       "2020-07-16  118.655859\n",
       "2020-07-17  104.312143\n",
       "...                ...\n",
       "2020-10-29   24.080889\n",
       "2020-10-30   23.336936\n",
       "2020-10-31   22.609367\n",
       "2020-11-01   21.889712\n",
       "2020-11-02   21.197097\n",
       "\n",
       "[113 rows x 1 columns]"
      ]
     },
     "execution_count": 42,
     "metadata": {},
     "output_type": "execute_result"
    }
   ],
   "source": [
    "upband = midband + (stdev * 1.5)\n",
    "lowband = midband - (stdev * 1.5)\n",
    "\n",
    "upband"
   ]
  },
  {
   "cell_type": "markdown",
   "metadata": {},
   "source": [
    "Adding the Bollinger Bands to the chart:"
   ]
  },
  {
   "cell_type": "code",
   "execution_count": 43,
   "metadata": {},
   "outputs": [
    {
     "data": {
      "image/png": "[encoded data removed]",
      "text/plain": [
       "<Figure size 936x648 with 1 Axes>"
      ]
     },
     "metadata": {
      "needs_background": "light"
     },
     "output_type": "display_data"
    }
   ],
   "source": [
    "# Plotting user 692's ping count and the 7-day SMA and EMA:\n",
    "\n",
    "fig, ax = plt.subplots(figsize = (13, 9))\n",
    "\n",
    "ax.plot(my_hits.index, my_hits, label = 'Pings')\n",
    "ax.plot(my_hits.index, short_sma, label = '7 day SMA')\n",
    "ax.plot(my_hits.index, short_ema, label = '7 day EMA')\n",
    "\n",
    "# Bollinger Bands section:\n",
    "ax.plot(my_hits.index, midband, label = '30 day EMA', c = 'firebrick', linestyle = \"--\", linewidth = 1.5)\n",
    "ax.plot(my_hits.index, upband, label = 'Upper Band', c = 'mediumpurple')\n",
    "ax.plot(my_hits.index, lowband, label = 'Lower Band', c = 'mediumpurple')\n",
    "\n",
    "\n",
    "\n",
    "ax.axhline(linewidth = .5, c = 'grey', linestyle = \"--\") # dashed line showing the 0 point. Since there can't be negative number of pings, I feel I need a way to set the lowest boundary visually.\n",
    "ax.legend(loc = 'best')\n",
    "ax.set_ylabel(\"Pings to Server\")\n",
    "plt.show()"
   ]
  },
  {
   "cell_type": "code",
   "execution_count": 44,
   "metadata": {},
   "outputs": [
    {
     "data": {
      "text/html": [
       "<div>\n",
       "<style scoped>\n",
       "    .dataframe tbody tr th:only-of-type {\n",
       "        vertical-align: middle;\n",
       "    }\n",
       "\n",
       "    .dataframe tbody tr th {\n",
       "        vertical-align: top;\n",
       "    }\n",
       "\n",
       "    .dataframe thead th {\n",
       "        text-align: right;\n",
       "    }\n",
       "</style>\n",
       "<table border=\"1\" class=\"dataframe\">\n",
       "  <thead>\n",
       "    <tr style=\"text-align: right;\">\n",
       "      <th></th>\n",
       "      <th>hits</th>\n",
       "    </tr>\n",
       "    <tr>\n",
       "      <th>date_time</th>\n",
       "      <th></th>\n",
       "    </tr>\n",
       "  </thead>\n",
       "  <tbody>\n",
       "    <tr>\n",
       "      <th>2020-07-13</th>\n",
       "      <td>4</td>\n",
       "    </tr>\n",
       "    <tr>\n",
       "      <th>2020-07-14</th>\n",
       "      <td>112</td>\n",
       "    </tr>\n",
       "    <tr>\n",
       "      <th>2020-07-15</th>\n",
       "      <td>9</td>\n",
       "    </tr>\n",
       "    <tr>\n",
       "      <th>2020-07-16</th>\n",
       "      <td>53</td>\n",
       "    </tr>\n",
       "    <tr>\n",
       "      <th>2020-07-17</th>\n",
       "      <td>12</td>\n",
       "    </tr>\n",
       "  </tbody>\n",
       "</table>\n",
       "</div>"
      ],
      "text/plain": [
       "            hits\n",
       "date_time       \n",
       "2020-07-13     4\n",
       "2020-07-14   112\n",
       "2020-07-15     9\n",
       "2020-07-16    53\n",
       "2020-07-17    12"
      ]
     },
     "execution_count": 44,
     "metadata": {},
     "output_type": "execute_result"
    }
   ],
   "source": [
    "my_hits.head()"
   ]
  },
  {
   "cell_type": "code",
   "execution_count": 45,
   "metadata": {},
   "outputs": [
    {
     "data": {
      "text/html": [
       "<div>\n",
       "<style scoped>\n",
       "    .dataframe tbody tr th:only-of-type {\n",
       "        vertical-align: middle;\n",
       "    }\n",
       "\n",
       "    .dataframe tbody tr th {\n",
       "        vertical-align: top;\n",
       "    }\n",
       "\n",
       "    .dataframe thead th {\n",
       "        text-align: right;\n",
       "    }\n",
       "</style>\n",
       "<table border=\"1\" class=\"dataframe\">\n",
       "  <thead>\n",
       "    <tr style=\"text-align: right;\">\n",
       "      <th></th>\n",
       "      <th>hits</th>\n",
       "      <th>upperband</th>\n",
       "      <th>midband</th>\n",
       "      <th>lowerband</th>\n",
       "    </tr>\n",
       "    <tr>\n",
       "      <th>date_time</th>\n",
       "      <th></th>\n",
       "      <th></th>\n",
       "      <th></th>\n",
       "      <th></th>\n",
       "    </tr>\n",
       "  </thead>\n",
       "  <tbody>\n",
       "    <tr>\n",
       "      <th>2020-07-13</th>\n",
       "      <td>4</td>\n",
       "      <td>NaN</td>\n",
       "      <td>4.000000</td>\n",
       "      <td>NaN</td>\n",
       "    </tr>\n",
       "    <tr>\n",
       "      <th>2020-07-14</th>\n",
       "      <td>112</td>\n",
       "      <td>174.351299</td>\n",
       "      <td>59.800000</td>\n",
       "      <td>-54.751299</td>\n",
       "    </tr>\n",
       "    <tr>\n",
       "      <th>2020-07-15</th>\n",
       "      <td>9</td>\n",
       "      <td>133.057774</td>\n",
       "      <td>41.725657</td>\n",
       "      <td>-49.606460</td>\n",
       "    </tr>\n",
       "    <tr>\n",
       "      <th>2020-07-16</th>\n",
       "      <td>53</td>\n",
       "      <td>118.655859</td>\n",
       "      <td>44.832149</td>\n",
       "      <td>-28.991560</td>\n",
       "    </tr>\n",
       "    <tr>\n",
       "      <th>2020-07-17</th>\n",
       "      <td>12</td>\n",
       "      <td>104.312143</td>\n",
       "      <td>37.362041</td>\n",
       "      <td>-29.588062</td>\n",
       "    </tr>\n",
       "    <tr>\n",
       "      <th>...</th>\n",
       "      <td>...</td>\n",
       "      <td>...</td>\n",
       "      <td>...</td>\n",
       "      <td>...</td>\n",
       "    </tr>\n",
       "    <tr>\n",
       "      <th>2020-10-29</th>\n",
       "      <td>4</td>\n",
       "      <td>24.080889</td>\n",
       "      <td>8.272471</td>\n",
       "      <td>-7.535948</td>\n",
       "    </tr>\n",
       "    <tr>\n",
       "      <th>2020-10-30</th>\n",
       "      <td>2</td>\n",
       "      <td>23.336936</td>\n",
       "      <td>7.867531</td>\n",
       "      <td>-7.601873</td>\n",
       "    </tr>\n",
       "    <tr>\n",
       "      <th>2020-10-31</th>\n",
       "      <td>0</td>\n",
       "      <td>22.609367</td>\n",
       "      <td>7.359639</td>\n",
       "      <td>-7.890089</td>\n",
       "    </tr>\n",
       "    <tr>\n",
       "      <th>2020-11-01</th>\n",
       "      <td>0</td>\n",
       "      <td>21.889712</td>\n",
       "      <td>6.884553</td>\n",
       "      <td>-8.120607</td>\n",
       "    </tr>\n",
       "    <tr>\n",
       "      <th>2020-11-02</th>\n",
       "      <td>2</td>\n",
       "      <td>21.197097</td>\n",
       "      <td>6.569252</td>\n",
       "      <td>-8.058593</td>\n",
       "    </tr>\n",
       "  </tbody>\n",
       "</table>\n",
       "<p>113 rows × 4 columns</p>\n",
       "</div>"
      ],
      "text/plain": [
       "            hits   upperband    midband  lowerband\n",
       "date_time                                         \n",
       "2020-07-13     4         NaN   4.000000        NaN\n",
       "2020-07-14   112  174.351299  59.800000 -54.751299\n",
       "2020-07-15     9  133.057774  41.725657 -49.606460\n",
       "2020-07-16    53  118.655859  44.832149 -28.991560\n",
       "2020-07-17    12  104.312143  37.362041 -29.588062\n",
       "...          ...         ...        ...        ...\n",
       "2020-10-29     4   24.080889   8.272471  -7.535948\n",
       "2020-10-30     2   23.336936   7.867531  -7.601873\n",
       "2020-10-31     0   22.609367   7.359639  -7.890089\n",
       "2020-11-01     0   21.889712   6.884553  -8.120607\n",
       "2020-11-02     2   21.197097   6.569252  -8.058593\n",
       "\n",
       "[113 rows x 4 columns]"
      ]
     },
     "execution_count": 45,
     "metadata": {},
     "output_type": "execute_result"
    }
   ],
   "source": [
    "# I'll need to either concat or merge (probably concat) Midband, upband and low band onto this df so that I can chart it...\n",
    "my_hits_plot = my_hits.copy()\n",
    "my_hits_plot = pd.merge(my_hits_plot, upband, left_index = True, right_index = True)\n",
    "my_hits_plot['midband'] = my_hits.ewm(span = span).mean()\n",
    "my_hits_plot = pd.merge(my_hits_plot, lowband, left_index = True, right_index = True)\n",
    "\n",
    "# Renaming the columns:\n",
    "\n",
    "my_hits_plot.columns = ['hits', 'upperband', 'midband', 'lowerband']\n",
    "\n",
    "my_hits_plot"
   ]
  },
  {
   "cell_type": "code",
   "execution_count": 46,
   "metadata": {},
   "outputs": [
    {
     "data": {
      "image/png": "[encoded data removed]",
      "text/plain": [
       "<Figure size 936x648 with 1 Axes>"
      ]
     },
     "metadata": {
      "needs_background": "light"
     },
     "output_type": "display_data"
    }
   ],
   "source": [
    "# # plt.style.use('fivethirtyeight')\n",
    "# fig = plt.figure(figsize = (18, 10))\n",
    "# ax = fig.add_subplot(111)\n",
    "# x_axis = spx_small.index.get_level_values(0)\n",
    "\n",
    "# ax.fill_between(x_axis, spx_small['upper_band'], spx_small['lower_band'], color = 'slategrey', alpha = .25)\n",
    "\n",
    "# ax.plot(x_axis, spx_small['spx'], color = 'blue', linewidth = '1.05')\n",
    "# ax.plot(x_axis, spx_small['20_day_ma'], color = 'orange', alpha = .91)\n",
    "\n",
    "# plt.show()\n",
    "\n",
    "# --------------------------------------\n",
    "\n",
    "# Plotting user 692's ping count and the 7-day SMA and EMA:\n",
    "\n",
    "fig, ax = plt.subplots(figsize = (13, 9))\n",
    "\n",
    "ax.plot(my_hits_plot.index, my_hits_plot.hits, label = 'Pings')\n",
    "ax.plot(my_hits_plot.index, short_sma, label = '7 day SMA')\n",
    "ax.plot(my_hits_plot.index, short_ema, label = '7 day EMA')\n",
    "\n",
    "# Bollinger Bands section:\n",
    "ax.plot(my_hits_plot.index, midband, label = '30 day EMA', c = 'firebrick', linestyle = \"--\", linewidth = 1.5)\n",
    "ax.plot(my_hits_plot.index, upband, label = 'Upper Band', c = 'mediumpurple', alpha = .75)\n",
    "ax.plot(my_hits_plot.index, lowband, label = 'Lower Band', c = 'mediumpurple', alpha = .75)\n",
    "\n",
    "# Filling between the BBands:\n",
    "x_axis = my_hits_plot.index.get_level_values(0)\n",
    "ax.fill_between(x = x_axis, y1 = my_hits_plot.upperband, y2 = my_hits_plot.lowerband, color = 'slategrey', alpha = .07)\n",
    "\n",
    "\n",
    "# Plotting the 0 line and setting up the legend, Title and labels, etc.\n",
    "ax.axhline(linewidth = .5, c = 'grey', linestyle = \"--\") # dashed line showing the 0 point. Since there can't be negative number of pings, I feel I need a way to set the lowest boundary visually.\n",
    "ax.legend(loc = 'best')\n",
    "ax.set_title(\"Luke's Pings to Curriculum\", fontsize = 16, fontweight = 'bold')\n",
    "ax.set_ylabel(\"Pings to Server\", fontweight = 'bold')\n",
    "plt.show()"
   ]
  },
  {
   "cell_type": "markdown",
   "metadata": {},
   "source": [
    "### Computing Entropy"
   ]
  },
  {
   "cell_type": "code",
   "execution_count": 47,
   "metadata": {},
   "outputs": [],
   "source": [
    "def compute_entropy(series):\n",
    "    counts = series.value_counts()\n",
    "    if len(counts)==1:\n",
    "        ent = 0\n",
    "    else:\n",
    "        value, counts = np.unique(series, return_counts=True)\n",
    "        ent = entropy(counts, base=None)\n",
    "    return ent"
   ]
  },
  {
   "cell_type": "code",
   "execution_count": 48,
   "metadata": {},
   "outputs": [
    {
     "data": {
      "text/plain": [
       "4.281933437860451"
      ]
     },
     "execution_count": 48,
     "metadata": {},
     "output_type": "execute_result"
    }
   ],
   "source": [
    "compute_entropy(df.ip)"
   ]
  },
  {
   "cell_type": "code",
   "execution_count": 49,
   "metadata": {},
   "outputs": [
    {
     "data": {
      "text/plain": [
       "6.170031470548415"
      ]
     },
     "execution_count": 49,
     "metadata": {},
     "output_type": "execute_result"
    }
   ],
   "source": [
    "compute_entropy(df.user_id)"
   ]
  },
  {
   "cell_type": "code",
   "execution_count": 50,
   "metadata": {},
   "outputs": [
    {
     "data": {
      "text/plain": [
       "3.9027926786187983"
      ]
     },
     "execution_count": 50,
     "metadata": {},
     "output_type": "execute_result"
    }
   ],
   "source": [
    "compute_entropy(df.cohort_id)"
   ]
  },
  {
   "cell_type": "markdown",
   "metadata": {},
   "source": [
    "### Search for IPs\n",
    "- "
   ]
  },
  {
   "cell_type": "code",
   "execution_count": null,
   "metadata": {},
   "outputs": [],
   "source": []
  },
  {
   "cell_type": "code",
   "execution_count": null,
   "metadata": {},
   "outputs": [],
   "source": []
  },
  {
   "cell_type": "code",
   "execution_count": null,
   "metadata": {},
   "outputs": [],
   "source": []
  },
  {
   "cell_type": "code",
   "execution_count": null,
   "metadata": {},
   "outputs": [],
   "source": []
  },
  {
   "cell_type": "code",
   "execution_count": null,
   "metadata": {},
   "outputs": [],
   "source": []
  },
  {
   "cell_type": "code",
   "execution_count": null,
   "metadata": {},
   "outputs": [],
   "source": []
  },
  {
   "cell_type": "code",
   "execution_count": null,
   "metadata": {},
   "outputs": [],
   "source": []
  },
  {
   "cell_type": "code",
   "execution_count": null,
   "metadata": {},
   "outputs": [],
   "source": []
  },
  {
   "cell_type": "code",
   "execution_count": null,
   "metadata": {},
   "outputs": [],
   "source": []
  },
  {
   "cell_type": "code",
   "execution_count": null,
   "metadata": {},
   "outputs": [],
   "source": []
  },
  {
   "cell_type": "code",
   "execution_count": null,
   "metadata": {},
   "outputs": [],
   "source": []
  },
  {
   "cell_type": "code",
   "execution_count": null,
   "metadata": {},
   "outputs": [],
   "source": []
  },
  {
   "cell_type": "code",
   "execution_count": null,
   "metadata": {},
   "outputs": [],
   "source": []
  },
  {
   "cell_type": "code",
   "execution_count": null,
   "metadata": {},
   "outputs": [],
   "source": []
  },
  {
   "cell_type": "code",
   "execution_count": null,
   "metadata": {},
   "outputs": [],
   "source": []
  },
  {
   "cell_type": "code",
   "execution_count": 51,
   "metadata": {},
   "outputs": [
    {
     "name": "stdout",
     "output_type": "stream",
     "text": [
      "<Response>\n",
      "\t<IP>96.8.130.213</IP>\n",
      "\t<CountryCode>US</CountryCode>\n",
      "\t<CountryName>United States</CountryName>\n",
      "\t<RegionCode>TX</RegionCode>\n",
      "\t<RegionName>Texas</RegionName>\n",
      "\t<City>San Antonio</City>\n",
      "\t<ZipCode>78260</ZipCode>\n",
      "\t<TimeZone>America/Chicago</TimeZone>\n",
      "\t<Latitude>29.7026</Latitude>\n",
      "\t<Longitude>-98.4759</Longitude>\n",
      "\t<MetroCode>641</MetroCode>\n",
      "</Response>\n",
      "\n"
     ]
    }
   ],
   "source": [
    "import requests\n",
    "\n",
    "url = \"https://free-geo-ip.p.rapidapi.com/xml/96.8.130.213\"\n",
    "\n",
    "headers = {\n",
    "    'x-rapidapi-key': \"671e72ff8dmsh51958d0b0f05f16p143064jsn9c149f8d2f3e\",\n",
    "    'x-rapidapi-host': \"free-geo-ip.p.rapidapi.com\"\n",
    "    }\n",
    "\n",
    "response = requests.request(\"GET\", url, headers=headers)\n",
    "\n",
    "print(response.text)"
   ]
  },
  {
   "cell_type": "code",
   "execution_count": 52,
   "metadata": {},
   "outputs": [],
   "source": [
    "import rapid_env"
   ]
  },
  {
   "cell_type": "code",
   "execution_count": 53,
   "metadata": {},
   "outputs": [
    {
     "name": "stdout",
     "output_type": "stream",
     "text": [
      "<Response>\n",
      "\t<IP>96.8.130.213</IP>\n",
      "\t<CountryCode>US</CountryCode>\n",
      "\t<CountryName>United States</CountryName>\n",
      "\t<RegionCode>TX</RegionCode>\n",
      "\t<RegionName>Texas</RegionName>\n",
      "\t<City>San Antonio</City>\n",
      "\t<ZipCode>78260</ZipCode>\n",
      "\t<TimeZone>America/Chicago</TimeZone>\n",
      "\t<Latitude>29.7026</Latitude>\n",
      "\t<Longitude>-98.4759</Longitude>\n",
      "\t<MetroCode>641</MetroCode>\n",
      "</Response>\n",
      "\n"
     ]
    }
   ],
   "source": [
    "url = \"https://free-geo-ip.p.rapidapi.com/xml/96.8.130.213\"\n",
    "\n",
    "headers = {\n",
    "    'x-rapidapi-key': rapid_env.my_key,\n",
    "    'x-rapidapi-host': rapid_env.host\n",
    "    }\n",
    "\n",
    "response = requests.request(\"GET\", url, headers=headers)\n",
    "\n",
    "print(response.text)"
   ]
  },
  {
   "cell_type": "code",
   "execution_count": 54,
   "metadata": {},
   "outputs": [
    {
     "name": "stdout",
     "output_type": "stream",
     "text": [
      "671e72ff8dmsh51958d0b0f05f16p143064jsn9c149f8d2f3e\n"
     ]
    }
   ],
   "source": [
    "print(rapid_env.my_key)"
   ]
  },
  {
   "cell_type": "code",
   "execution_count": 55,
   "metadata": {},
   "outputs": [
    {
     "data": {
      "text/plain": [
       "str"
      ]
     },
     "execution_count": 55,
     "metadata": {},
     "output_type": "execute_result"
    }
   ],
   "source": [
    "type(rapid_env.my_key)"
   ]
  },
  {
   "cell_type": "code",
   "execution_count": 56,
   "metadata": {},
   "outputs": [],
   "source": [
    "df_cohort = df[['cohort_id']]"
   ]
  },
  {
   "cell_type": "code",
   "execution_count": 57,
   "metadata": {},
   "outputs": [],
   "source": [
    "train = df_cohort[:'2019-10-17']\n",
    "validate = df_cohort['2019-10-18':'2020-05-15']\n",
    "test = df_cohort['2020-05-16':]"
   ]
  },
  {
   "cell_type": "code",
   "execution_count": 58,
   "metadata": {},
   "outputs": [
    {
     "data": {
      "text/plain": [
       "((374666, 1), (169299, 1), (175494, 1))"
      ]
     },
     "execution_count": 58,
     "metadata": {},
     "output_type": "execute_result"
    }
   ],
   "source": [
    "train.shape, validate.shape, test.shape"
   ]
  },
  {
   "cell_type": "code",
   "execution_count": 59,
   "metadata": {},
   "outputs": [
    {
     "data": {
      "image/png": "[encoded data removed]",
      "text/plain": [
       "<Figure size 864x576 with 1 Axes>"
      ]
     },
     "metadata": {
      "needs_background": "light"
     },
     "output_type": "display_data"
    }
   ],
   "source": [
    "plt.figure(figsize=(12, 8))\n",
    "plt.plot(train)\n",
    "plt.plot(validate)\n",
    "plt.plot(test)\n",
    "plt.show()"
   ]
  },
  {
   "cell_type": "code",
   "execution_count": 60,
   "metadata": {},
   "outputs": [
    {
     "ename": "SyntaxError",
     "evalue": "invalid character in identifier (<ipython-input-60-a53dc647fea2>, line 1)",
     "output_type": "error",
     "traceback": [
      "\u001b[0;36m  File \u001b[0;32m\"<ipython-input-60-a53dc647fea2>\"\u001b[0;36m, line \u001b[0;32m1\u001b[0m\n\u001b[0;31m    mask = (df.column.str.contains(“A”) | df.column.str.contains(“B”))\u001b[0m\n\u001b[0m                                     ^\u001b[0m\n\u001b[0;31mSyntaxError\u001b[0m\u001b[0;31m:\u001b[0m invalid character in identifier\n"
     ]
    }
   ],
   "source": [
    "mask = (df.column.str.contains(“A”) | df.column.str.contains(“B”))\n",
    "df[mask]"
   ]
  },
  {
   "cell_type": "code",
   "execution_count": null,
   "metadata": {},
   "outputs": [],
   "source": [
    "# my_datetime_fmt = mdates.DateFormatter('%m-%d %H:%T')\n",
    "\n",
    "# df_ts_size = df['user_id'].resample('30T').count()\n",
    "\n",
    "# idx = pd.date_range(\n",
    "#     df_ts_size.sort_index().index.min(), \n",
    "#     df_ts_size.sort_index().index.max(),\n",
    "#     freq='30min'\n",
    "# )\n",
    "\n",
    "# df_ts_size = df_ts_size.reindex(idx, fill_value=0).fillna(value=0)\n",
    "\n",
    "# # , 'cohort_id', 'ip', 'year', 'month', 'day', 'weekday', 'hour'"
   ]
  },
  {
   "cell_type": "code",
   "execution_count": null,
   "metadata": {},
   "outputs": [],
   "source": [
    "# start_date_train = df.head(1).index[0]\n",
    "# end_date_train = '2019-12-31 23:30:00'\n",
    "# start_date_test = '2020-01-01 00:00:00'\n",
    "\n",
    "# train = df_ts_size[:end_date_train]\n",
    "# test = df_ts_size[start_date_test:]\n",
    "\n",
    "# plt.figure(figsize=(12, 8))\n",
    "# plt.plot(train)\n",
    "# plt.plot(test)\n",
    "# plt.show()"
   ]
  },
  {
   "cell_type": "code",
   "execution_count": null,
   "metadata": {},
   "outputs": [],
   "source": [
    "train1.head()"
   ]
  },
  {
   "cell_type": "code",
   "execution_count": 61,
   "metadata": {},
   "outputs": [
    {
     "data": {
      "text/plain": [
       "<AxesSubplot:xlabel='date_time'>"
      ]
     },
     "execution_count": 61,
     "metadata": {},
     "output_type": "execute_result"
    },
    {
     "data": {
      "image/png": "[encoded data removed]",
      "text/plain": [
       "<Figure size 864x648 with 1 Axes>"
      ]
     },
     "metadata": {
      "needs_background": "light"
     },
     "output_type": "display_data"
    }
   ],
   "source": [
    "# Creating a quick plot of the user_id column for one day to get my bearings.\n",
    "\n",
    "df['2018-01-26'].user_id.plot(figsize = (12, 9))"
   ]
  },
  {
   "cell_type": "code",
   "execution_count": 63,
   "metadata": {},
   "outputs": [
    {
     "data": {
      "text/html": [
       "<div>\n",
       "<style scoped>\n",
       "    .dataframe tbody tr th:only-of-type {\n",
       "        vertical-align: middle;\n",
       "    }\n",
       "\n",
       "    .dataframe tbody tr th {\n",
       "        vertical-align: top;\n",
       "    }\n",
       "\n",
       "    .dataframe thead th {\n",
       "        text-align: right;\n",
       "    }\n",
       "</style>\n",
       "<table border=\"1\" class=\"dataframe\">\n",
       "  <thead>\n",
       "    <tr style=\"text-align: right;\">\n",
       "      <th></th>\n",
       "      <th>web_page</th>\n",
       "      <th>user_id</th>\n",
       "      <th>cohort_id</th>\n",
       "      <th>ip</th>\n",
       "      <th>year</th>\n",
       "      <th>month</th>\n",
       "      <th>day</th>\n",
       "      <th>weekday</th>\n",
       "      <th>hour</th>\n",
       "    </tr>\n",
       "    <tr>\n",
       "      <th>date_time</th>\n",
       "      <th></th>\n",
       "      <th></th>\n",
       "      <th></th>\n",
       "      <th></th>\n",
       "      <th></th>\n",
       "      <th></th>\n",
       "      <th></th>\n",
       "      <th></th>\n",
       "      <th></th>\n",
       "    </tr>\n",
       "  </thead>\n",
       "  <tbody>\n",
       "    <tr>\n",
       "      <th>2018-01-26 09:55:03</th>\n",
       "      <td>/</td>\n",
       "      <td>1</td>\n",
       "      <td>8.0</td>\n",
       "      <td>97.105.19.61</td>\n",
       "      <td>2018</td>\n",
       "      <td>1</td>\n",
       "      <td>1</td>\n",
       "      <td>Friday</td>\n",
       "      <td>9</td>\n",
       "    </tr>\n",
       "    <tr>\n",
       "      <th>2018-01-26 09:56:02</th>\n",
       "      <td>java-ii</td>\n",
       "      <td>1</td>\n",
       "      <td>8.0</td>\n",
       "      <td>97.105.19.61</td>\n",
       "      <td>2018</td>\n",
       "      <td>1</td>\n",
       "      <td>1</td>\n",
       "      <td>Friday</td>\n",
       "      <td>9</td>\n",
       "    </tr>\n",
       "    <tr>\n",
       "      <th>2018-01-26 09:56:05</th>\n",
       "      <td>java-ii/object-oriented-programming</td>\n",
       "      <td>1</td>\n",
       "      <td>8.0</td>\n",
       "      <td>97.105.19.61</td>\n",
       "      <td>2018</td>\n",
       "      <td>1</td>\n",
       "      <td>1</td>\n",
       "      <td>Friday</td>\n",
       "      <td>9</td>\n",
       "    </tr>\n",
       "    <tr>\n",
       "      <th>2018-01-26 09:56:06</th>\n",
       "      <td>slides/object_oriented_programming</td>\n",
       "      <td>1</td>\n",
       "      <td>8.0</td>\n",
       "      <td>97.105.19.61</td>\n",
       "      <td>2018</td>\n",
       "      <td>1</td>\n",
       "      <td>1</td>\n",
       "      <td>Friday</td>\n",
       "      <td>9</td>\n",
       "    </tr>\n",
       "    <tr>\n",
       "      <th>2018-01-26 09:56:24</th>\n",
       "      <td>javascript-i/conditionals</td>\n",
       "      <td>2</td>\n",
       "      <td>22.0</td>\n",
       "      <td>97.105.19.61</td>\n",
       "      <td>2018</td>\n",
       "      <td>1</td>\n",
       "      <td>1</td>\n",
       "      <td>Friday</td>\n",
       "      <td>9</td>\n",
       "    </tr>\n",
       "  </tbody>\n",
       "</table>\n",
       "</div>"
      ],
      "text/plain": [
       "                                                web_page  user_id  cohort_id  \\\n",
       "date_time                                                                      \n",
       "2018-01-26 09:55:03                                    /        1        8.0   \n",
       "2018-01-26 09:56:02                              java-ii        1        8.0   \n",
       "2018-01-26 09:56:05  java-ii/object-oriented-programming        1        8.0   \n",
       "2018-01-26 09:56:06   slides/object_oriented_programming        1        8.0   \n",
       "2018-01-26 09:56:24            javascript-i/conditionals        2       22.0   \n",
       "\n",
       "                               ip  year  month  day weekday  hour  \n",
       "date_time                                                          \n",
       "2018-01-26 09:55:03  97.105.19.61  2018      1    1  Friday     9  \n",
       "2018-01-26 09:56:02  97.105.19.61  2018      1    1  Friday     9  \n",
       "2018-01-26 09:56:05  97.105.19.61  2018      1    1  Friday     9  \n",
       "2018-01-26 09:56:06  97.105.19.61  2018      1    1  Friday     9  \n",
       "2018-01-26 09:56:24  97.105.19.61  2018      1    1  Friday     9  "
      ]
     },
     "execution_count": 63,
     "metadata": {},
     "output_type": "execute_result"
    }
   ],
   "source": [
    "df.head()"
   ]
  },
  {
   "cell_type": "code",
   "execution_count": 62,
   "metadata": {},
   "outputs": [
    {
     "data": {
      "text/plain": [
       "<AxesSubplot:xlabel='hour', ylabel='cohort_id'>"
      ]
     },
     "execution_count": 62,
     "metadata": {},
     "output_type": "execute_result"
    },
    {
     "data": {
      "image/png": "[encoded data removed]",
      "text/plain": [
       "<Figure size 432x288 with 1 Axes>"
      ]
     },
     "metadata": {
      "needs_background": "light"
     },
     "output_type": "display_data"
    }
   ],
   "source": [
    "sns.boxplot(data = df, x = 'hour', y = 'cohort_id')"
   ]
  },
  {
   "cell_type": "code",
   "execution_count": null,
   "metadata": {},
   "outputs": [],
   "source": []
  },
  {
   "cell_type": "code",
   "execution_count": null,
   "metadata": {},
   "outputs": [],
   "source": []
  },
  {
   "cell_type": "markdown",
   "metadata": {},
   "source": [
    "#### Takeaways:\n",
    "\n",
    "- The user id column has the highest entropy compared to the other columns tested here, but that doesn't necessarily mean there is a high level of entropy on an objective level. Subjectively, user id is higher, but that's also possible because there is more unique entries in that column than the other columns tested.\n",
    "- Going to look more deeply into user id."
   ]
  },
  {
   "cell_type": "code",
   "execution_count": null,
   "metadata": {},
   "outputs": [],
   "source": [
    "sns.boxplot(data)"
   ]
  },
  {
   "cell_type": "code",
   "execution_count": null,
   "metadata": {},
   "outputs": [],
   "source": [
    "# df.columns = [' '.join(col).strip() for col in df.columns.values]"
   ]
  }
 ],
 "metadata": {
  "kernelspec": {
   "display_name": "Python 3",
   "language": "python",
   "name": "python3"
  },
  "language_info": {
   "codemirror_mode": {
    "name": "ipython",
    "version": 3
   },
   "file_extension": ".py",
   "mimetype": "text/x-python",
   "name": "python",
   "nbconvert_exporter": "python",
   "pygments_lexer": "ipython3",
   "version": "3.7.9"
  }
 },
 "nbformat": 4,
 "nbformat_minor": 4
}
